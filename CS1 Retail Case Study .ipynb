{
 "cells": [
  {
   "cell_type": "code",
   "execution_count": 2,
   "id": "3e70c4b0",
   "metadata": {},
   "outputs": [],
   "source": [
    "# import the packages\n",
    "import pandas as pd\n",
    "import numpy as np\n",
    "import datetime as dt\n",
    "import seaborn as sns\n",
    "import matplotlib.pyplot as plt\n",
    "%matplotlib inline"
   ]
  },
  {
   "cell_type": "code",
   "execution_count": 3,
   "id": "89e2232a",
   "metadata": {},
   "outputs": [],
   "source": [
    "# Getting the data\n",
    "Customer = pd.read_csv('C:/Users/Vaibhav Dewat/Downloads/Analytix Lab course/Case Study/Python Foundation Case Study 1 - Retail Case Study/Case Study 1 - Retail Case Study/Customer.csv')\n",
    "prod_cat_info = pd.read_csv('C:/Users/Vaibhav Dewat/Downloads/Analytix Lab course/Case Study/Python Foundation Case Study 1 - Retail Case Study/Case Study 1 - Retail Case Study/prod_cat_info.csv')\n",
    "Transactions = pd.read_csv('C:/Users/Vaibhav Dewat/Downloads/Analytix Lab course/Case Study/Python Foundation Case Study 1 - Retail Case Study/Case Study 1 - Retail Case Study/Transactions.csv')\n"
   ]
  },
  {
   "cell_type": "code",
   "execution_count": 4,
   "id": "8f6f4b22",
   "metadata": {},
   "outputs": [
    {
     "data": {
      "text/html": [
       "<div>\n",
       "<style scoped>\n",
       "    .dataframe tbody tr th:only-of-type {\n",
       "        vertical-align: middle;\n",
       "    }\n",
       "\n",
       "    .dataframe tbody tr th {\n",
       "        vertical-align: top;\n",
       "    }\n",
       "\n",
       "    .dataframe thead th {\n",
       "        text-align: right;\n",
       "    }\n",
       "</style>\n",
       "<table border=\"1\" class=\"dataframe\">\n",
       "  <thead>\n",
       "    <tr style=\"text-align: right;\">\n",
       "      <th></th>\n",
       "      <th>customer_Id</th>\n",
       "      <th>DOB</th>\n",
       "      <th>Gender</th>\n",
       "      <th>city_code</th>\n",
       "    </tr>\n",
       "  </thead>\n",
       "  <tbody>\n",
       "    <tr>\n",
       "      <th>0</th>\n",
       "      <td>268408</td>\n",
       "      <td>02-01-1970</td>\n",
       "      <td>M</td>\n",
       "      <td>4.0</td>\n",
       "    </tr>\n",
       "    <tr>\n",
       "      <th>1</th>\n",
       "      <td>269696</td>\n",
       "      <td>07-01-1970</td>\n",
       "      <td>F</td>\n",
       "      <td>8.0</td>\n",
       "    </tr>\n",
       "    <tr>\n",
       "      <th>2</th>\n",
       "      <td>268159</td>\n",
       "      <td>08-01-1970</td>\n",
       "      <td>F</td>\n",
       "      <td>8.0</td>\n",
       "    </tr>\n",
       "  </tbody>\n",
       "</table>\n",
       "</div>"
      ],
      "text/plain": [
       "   customer_Id         DOB Gender  city_code\n",
       "0       268408  02-01-1970      M        4.0\n",
       "1       269696  07-01-1970      F        8.0\n",
       "2       268159  08-01-1970      F        8.0"
      ]
     },
     "execution_count": 4,
     "metadata": {},
     "output_type": "execute_result"
    }
   ],
   "source": [
    "Customer.head(3)"
   ]
  },
  {
   "cell_type": "code",
   "execution_count": 5,
   "id": "56a853a6",
   "metadata": {},
   "outputs": [
    {
     "data": {
      "text/html": [
       "<div>\n",
       "<style scoped>\n",
       "    .dataframe tbody tr th:only-of-type {\n",
       "        vertical-align: middle;\n",
       "    }\n",
       "\n",
       "    .dataframe tbody tr th {\n",
       "        vertical-align: top;\n",
       "    }\n",
       "\n",
       "    .dataframe thead th {\n",
       "        text-align: right;\n",
       "    }\n",
       "</style>\n",
       "<table border=\"1\" class=\"dataframe\">\n",
       "  <thead>\n",
       "    <tr style=\"text-align: right;\">\n",
       "      <th></th>\n",
       "      <th>prod_cat_code</th>\n",
       "      <th>prod_cat</th>\n",
       "      <th>prod_sub_cat_code</th>\n",
       "      <th>prod_subcat</th>\n",
       "    </tr>\n",
       "  </thead>\n",
       "  <tbody>\n",
       "    <tr>\n",
       "      <th>0</th>\n",
       "      <td>1</td>\n",
       "      <td>Clothing</td>\n",
       "      <td>4</td>\n",
       "      <td>Mens</td>\n",
       "    </tr>\n",
       "    <tr>\n",
       "      <th>1</th>\n",
       "      <td>1</td>\n",
       "      <td>Clothing</td>\n",
       "      <td>1</td>\n",
       "      <td>Women</td>\n",
       "    </tr>\n",
       "    <tr>\n",
       "      <th>2</th>\n",
       "      <td>1</td>\n",
       "      <td>Clothing</td>\n",
       "      <td>3</td>\n",
       "      <td>Kids</td>\n",
       "    </tr>\n",
       "  </tbody>\n",
       "</table>\n",
       "</div>"
      ],
      "text/plain": [
       "   prod_cat_code  prod_cat  prod_sub_cat_code prod_subcat\n",
       "0              1  Clothing                  4        Mens\n",
       "1              1  Clothing                  1       Women\n",
       "2              1  Clothing                  3        Kids"
      ]
     },
     "execution_count": 5,
     "metadata": {},
     "output_type": "execute_result"
    }
   ],
   "source": [
    "prod_cat_info.head(3)"
   ]
  },
  {
   "cell_type": "code",
   "execution_count": 6,
   "id": "3051c746",
   "metadata": {},
   "outputs": [
    {
     "data": {
      "text/html": [
       "<div>\n",
       "<style scoped>\n",
       "    .dataframe tbody tr th:only-of-type {\n",
       "        vertical-align: middle;\n",
       "    }\n",
       "\n",
       "    .dataframe tbody tr th {\n",
       "        vertical-align: top;\n",
       "    }\n",
       "\n",
       "    .dataframe thead th {\n",
       "        text-align: right;\n",
       "    }\n",
       "</style>\n",
       "<table border=\"1\" class=\"dataframe\">\n",
       "  <thead>\n",
       "    <tr style=\"text-align: right;\">\n",
       "      <th></th>\n",
       "      <th>transaction_id</th>\n",
       "      <th>cust_id</th>\n",
       "      <th>tran_date</th>\n",
       "      <th>prod_subcat_code</th>\n",
       "      <th>prod_cat_code</th>\n",
       "      <th>Qty</th>\n",
       "      <th>Rate</th>\n",
       "      <th>Tax</th>\n",
       "      <th>total_amt</th>\n",
       "      <th>Store_type</th>\n",
       "    </tr>\n",
       "  </thead>\n",
       "  <tbody>\n",
       "    <tr>\n",
       "      <th>0</th>\n",
       "      <td>80712190438</td>\n",
       "      <td>270351</td>\n",
       "      <td>28-02-2014</td>\n",
       "      <td>1</td>\n",
       "      <td>1</td>\n",
       "      <td>-5</td>\n",
       "      <td>-772</td>\n",
       "      <td>405.300</td>\n",
       "      <td>-4265.300</td>\n",
       "      <td>e-Shop</td>\n",
       "    </tr>\n",
       "    <tr>\n",
       "      <th>1</th>\n",
       "      <td>29258453508</td>\n",
       "      <td>270384</td>\n",
       "      <td>27-02-2014</td>\n",
       "      <td>5</td>\n",
       "      <td>3</td>\n",
       "      <td>-5</td>\n",
       "      <td>-1497</td>\n",
       "      <td>785.925</td>\n",
       "      <td>-8270.925</td>\n",
       "      <td>e-Shop</td>\n",
       "    </tr>\n",
       "    <tr>\n",
       "      <th>2</th>\n",
       "      <td>51750724947</td>\n",
       "      <td>273420</td>\n",
       "      <td>24-02-2014</td>\n",
       "      <td>6</td>\n",
       "      <td>5</td>\n",
       "      <td>-2</td>\n",
       "      <td>-791</td>\n",
       "      <td>166.110</td>\n",
       "      <td>-1748.110</td>\n",
       "      <td>TeleShop</td>\n",
       "    </tr>\n",
       "  </tbody>\n",
       "</table>\n",
       "</div>"
      ],
      "text/plain": [
       "   transaction_id  cust_id   tran_date  prod_subcat_code  prod_cat_code  Qty  \\\n",
       "0     80712190438   270351  28-02-2014                 1              1   -5   \n",
       "1     29258453508   270384  27-02-2014                 5              3   -5   \n",
       "2     51750724947   273420  24-02-2014                 6              5   -2   \n",
       "\n",
       "   Rate      Tax  total_amt Store_type  \n",
       "0  -772  405.300  -4265.300     e-Shop  \n",
       "1 -1497  785.925  -8270.925     e-Shop  \n",
       "2  -791  166.110  -1748.110   TeleShop  "
      ]
     },
     "execution_count": 6,
     "metadata": {},
     "output_type": "execute_result"
    }
   ],
   "source": [
    "Transactions.head(3)"
   ]
  },
  {
   "cell_type": "markdown",
   "id": "2816aba7",
   "metadata": {},
   "source": [
    "# BUSINESS PROBLEMS:\n"
   ]
  },
  {
   "cell_type": "markdown",
   "id": "f221da89",
   "metadata": {},
   "source": [
    "### 1. Merge the datasets Customers, Product Hierarchy and Transactions as Customer_Final. Ensure to keep all customers who have done transactions with us and select the join type accordingly."
   ]
  },
  {
   "cell_type": "code",
   "execution_count": 7,
   "id": "3dc932f4",
   "metadata": {},
   "outputs": [
    {
     "data": {
      "text/html": [
       "<div>\n",
       "<style scoped>\n",
       "    .dataframe tbody tr th:only-of-type {\n",
       "        vertical-align: middle;\n",
       "    }\n",
       "\n",
       "    .dataframe tbody tr th {\n",
       "        vertical-align: top;\n",
       "    }\n",
       "\n",
       "    .dataframe thead th {\n",
       "        text-align: right;\n",
       "    }\n",
       "</style>\n",
       "<table border=\"1\" class=\"dataframe\">\n",
       "  <thead>\n",
       "    <tr style=\"text-align: right;\">\n",
       "      <th></th>\n",
       "      <th>transaction_id</th>\n",
       "      <th>cust_id</th>\n",
       "      <th>tran_date</th>\n",
       "      <th>prod_subcat_code</th>\n",
       "      <th>prod_cat_code</th>\n",
       "      <th>Qty</th>\n",
       "      <th>Rate</th>\n",
       "      <th>Tax</th>\n",
       "      <th>total_amt</th>\n",
       "      <th>Store_type</th>\n",
       "      <th>customer_Id</th>\n",
       "      <th>DOB</th>\n",
       "      <th>Gender</th>\n",
       "      <th>city_code</th>\n",
       "      <th>prod_cat</th>\n",
       "      <th>prod_sub_cat_code</th>\n",
       "      <th>prod_subcat</th>\n",
       "    </tr>\n",
       "  </thead>\n",
       "  <tbody>\n",
       "    <tr>\n",
       "      <th>0</th>\n",
       "      <td>80712190438</td>\n",
       "      <td>270351</td>\n",
       "      <td>28-02-2014</td>\n",
       "      <td>1</td>\n",
       "      <td>1</td>\n",
       "      <td>-5</td>\n",
       "      <td>-772</td>\n",
       "      <td>405.300</td>\n",
       "      <td>-4265.300</td>\n",
       "      <td>e-Shop</td>\n",
       "      <td>270351</td>\n",
       "      <td>26-09-1981</td>\n",
       "      <td>M</td>\n",
       "      <td>5.0</td>\n",
       "      <td>Clothing</td>\n",
       "      <td>1</td>\n",
       "      <td>Women</td>\n",
       "    </tr>\n",
       "    <tr>\n",
       "      <th>1</th>\n",
       "      <td>29258453508</td>\n",
       "      <td>270384</td>\n",
       "      <td>27-02-2014</td>\n",
       "      <td>5</td>\n",
       "      <td>3</td>\n",
       "      <td>-5</td>\n",
       "      <td>-1497</td>\n",
       "      <td>785.925</td>\n",
       "      <td>-8270.925</td>\n",
       "      <td>e-Shop</td>\n",
       "      <td>270384</td>\n",
       "      <td>11-05-1973</td>\n",
       "      <td>F</td>\n",
       "      <td>8.0</td>\n",
       "      <td>Electronics</td>\n",
       "      <td>5</td>\n",
       "      <td>Computers</td>\n",
       "    </tr>\n",
       "    <tr>\n",
       "      <th>2</th>\n",
       "      <td>51750724947</td>\n",
       "      <td>273420</td>\n",
       "      <td>24-02-2014</td>\n",
       "      <td>6</td>\n",
       "      <td>5</td>\n",
       "      <td>-2</td>\n",
       "      <td>-791</td>\n",
       "      <td>166.110</td>\n",
       "      <td>-1748.110</td>\n",
       "      <td>TeleShop</td>\n",
       "      <td>273420</td>\n",
       "      <td>27-07-1992</td>\n",
       "      <td>M</td>\n",
       "      <td>8.0</td>\n",
       "      <td>Books</td>\n",
       "      <td>6</td>\n",
       "      <td>DIY</td>\n",
       "    </tr>\n",
       "  </tbody>\n",
       "</table>\n",
       "</div>"
      ],
      "text/plain": [
       "   transaction_id  cust_id   tran_date  prod_subcat_code  prod_cat_code  Qty  \\\n",
       "0     80712190438   270351  28-02-2014                 1              1   -5   \n",
       "1     29258453508   270384  27-02-2014                 5              3   -5   \n",
       "2     51750724947   273420  24-02-2014                 6              5   -2   \n",
       "\n",
       "   Rate      Tax  total_amt Store_type  customer_Id         DOB Gender  \\\n",
       "0  -772  405.300  -4265.300     e-Shop       270351  26-09-1981      M   \n",
       "1 -1497  785.925  -8270.925     e-Shop       270384  11-05-1973      F   \n",
       "2  -791  166.110  -1748.110   TeleShop       273420  27-07-1992      M   \n",
       "\n",
       "   city_code     prod_cat  prod_sub_cat_code prod_subcat  \n",
       "0        5.0     Clothing                  1       Women  \n",
       "1        8.0  Electronics                  5   Computers  \n",
       "2        8.0        Books                  6         DIY  "
      ]
     },
     "execution_count": 7,
     "metadata": {},
     "output_type": "execute_result"
    }
   ],
   "source": [
    "Customer_Final = pd.merge(left = Transactions, right = Customer, how = 'left', left_on = 'cust_id',  right_on = 'customer_Id' )\n",
    "Customer_Final = Customer_Final.merge(prod_cat_info, how = 'left', left_on = ['prod_cat_code', 'prod_subcat_code'],  right_on = ['prod_cat_code', 'prod_sub_cat_code'] )\n",
    "Customer_Final.head(3)"
   ]
  },
  {
   "cell_type": "markdown",
   "id": "884d4441",
   "metadata": {},
   "source": [
    "### 2. Prepare a summary report for the merged data set."
   ]
  },
  {
   "cell_type": "markdown",
   "id": "0d2cff47",
   "metadata": {},
   "source": [
    " #### a. Get the column names and their corresponding data types\n"
   ]
  },
  {
   "cell_type": "code",
   "execution_count": 8,
   "id": "6253ce4e",
   "metadata": {},
   "outputs": [
    {
     "name": "stdout",
     "output_type": "stream",
     "text": [
      "<class 'pandas.core.frame.DataFrame'>\n",
      "Int64Index: 23053 entries, 0 to 23052\n",
      "Data columns (total 17 columns):\n",
      " #   Column             Non-Null Count  Dtype  \n",
      "---  ------             --------------  -----  \n",
      " 0   transaction_id     23053 non-null  int64  \n",
      " 1   cust_id            23053 non-null  int64  \n",
      " 2   tran_date          23053 non-null  object \n",
      " 3   prod_subcat_code   23053 non-null  int64  \n",
      " 4   prod_cat_code      23053 non-null  int64  \n",
      " 5   Qty                23053 non-null  int64  \n",
      " 6   Rate               23053 non-null  int64  \n",
      " 7   Tax                23053 non-null  float64\n",
      " 8   total_amt          23053 non-null  float64\n",
      " 9   Store_type         23053 non-null  object \n",
      " 10  customer_Id        23053 non-null  int64  \n",
      " 11  DOB                23053 non-null  object \n",
      " 12  Gender             23044 non-null  object \n",
      " 13  city_code          23045 non-null  float64\n",
      " 14  prod_cat           23053 non-null  object \n",
      " 15  prod_sub_cat_code  23053 non-null  int64  \n",
      " 16  prod_subcat        23053 non-null  object \n",
      "dtypes: float64(3), int64(8), object(6)\n",
      "memory usage: 3.2+ MB\n"
     ]
    }
   ],
   "source": [
    "Customer_Final.info()"
   ]
  },
  {
   "cell_type": "markdown",
   "id": "749af321",
   "metadata": {},
   "source": [
    " #### b. Top/Bottom 10 observations\n"
   ]
  },
  {
   "cell_type": "code",
   "execution_count": 9,
   "id": "3f8edc3e",
   "metadata": {},
   "outputs": [
    {
     "name": "stdout",
     "output_type": "stream",
     "text": [
      "   transaction_id  cust_id   tran_date  prod_subcat_code  prod_cat_code  Qty  \\\n",
      "0     80712190438   270351  28-02-2014                 1              1   -5   \n",
      "1     29258453508   270384  27-02-2014                 5              3   -5   \n",
      "2     51750724947   273420  24-02-2014                 6              5   -2   \n",
      "3     93274880719   271509  24-02-2014                11              6   -3   \n",
      "4     51750724947   273420  23-02-2014                 6              5   -2   \n",
      "5     97439039119   272357  23-02-2014                 8              3   -2   \n",
      "6     45649838090   273667  22-02-2014                11              6   -1   \n",
      "7     22643667930   271489  22-02-2014                12              6   -1   \n",
      "8     79792372943   275108  22-02-2014                 3              1   -3   \n",
      "9     50076728598   269014  21-02-2014                 8              3   -4   \n",
      "\n",
      "   Rate      Tax  total_amt Store_type  customer_Id         DOB Gender  \\\n",
      "0  -772  405.300  -4265.300     e-Shop       270351  26-09-1981      M   \n",
      "1 -1497  785.925  -8270.925     e-Shop       270384  11-05-1973      F   \n",
      "2  -791  166.110  -1748.110   TeleShop       273420  27-07-1992      M   \n",
      "3 -1363  429.345  -4518.345     e-Shop       271509  08-06-1981      M   \n",
      "4  -791  166.110  -1748.110   TeleShop       273420  27-07-1992      M   \n",
      "5  -824  173.040  -1821.040   TeleShop       272357  09-10-1982      F   \n",
      "6 -1450  152.250  -1602.250     e-Shop       273667  29-05-1981      M   \n",
      "7 -1225  128.625  -1353.625   TeleShop       271489  21-04-1971      M   \n",
      "8  -908  286.020  -3010.020        MBR       275108  04-11-1971      F   \n",
      "9  -581  244.020  -2568.020     e-Shop       269014  27-11-1979      F   \n",
      "\n",
      "   city_code          prod_cat  prod_sub_cat_code          prod_subcat  \n",
      "0        5.0          Clothing                  1                Women  \n",
      "1        8.0       Electronics                  5            Computers  \n",
      "2        8.0             Books                  6                  DIY  \n",
      "3        3.0  Home and kitchen                 11                 Bath  \n",
      "4        8.0             Books                  6                  DIY  \n",
      "5        6.0       Electronics                  8  Personal Appliances  \n",
      "6        9.0  Home and kitchen                 11                 Bath  \n",
      "7        9.0  Home and kitchen                 12                Tools  \n",
      "8        8.0          Clothing                  3                 Kids  \n",
      "9        3.0       Electronics                  8  Personal Appliances  \n",
      "       transaction_id  cust_id   tran_date  prod_subcat_code  prod_cat_code  \\\n",
      "23043     49882891062   271982  25-01-2011                10              5   \n",
      "23044     14787475597   273982  25-01-2011                 4              3   \n",
      "23045     50691119572   273031  25-01-2011                 6              5   \n",
      "23046     40893803228   272049  25-01-2011                11              6   \n",
      "23047     30856003613   266866  25-01-2011                 4              2   \n",
      "23048     94340757522   274550  25-01-2011                12              5   \n",
      "23049     89780862956   270022  25-01-2011                 4              1   \n",
      "23050     85115299378   271020  25-01-2011                 2              6   \n",
      "23051     72870271171   270911  25-01-2011                11              5   \n",
      "23052     77960931771   271961  25-01-2011                11              5   \n",
      "\n",
      "       Qty  Rate      Tax  total_amt Store_type  customer_Id         DOB  \\\n",
      "23043    4  1330  558.600   5878.600     e-Shop       271982  10-08-1976   \n",
      "23044    5   969  508.725   5353.725     e-Shop       273982  12-10-1991   \n",
      "23045    1  1148  120.540   1268.540   TeleShop       273031  17-01-1980   \n",
      "23046    3  1077  339.255   3570.255     e-Shop       272049  28-06-1975   \n",
      "23047    2   444   93.240    981.240   TeleShop       266866  18-04-1974   \n",
      "23048    1  1264  132.720   1396.720     e-Shop       274550  21-02-1972   \n",
      "23049    1   677   71.085    748.085     e-Shop       270022  27-04-1984   \n",
      "23050    4  1052  441.840   4649.840        MBR       271020  20-06-1976   \n",
      "23051    3  1142  359.730   3785.730   TeleShop       270911  22-05-1970   \n",
      "23052    1   447   46.935    493.935   TeleShop       271961  15-01-1982   \n",
      "\n",
      "      Gender  city_code          prod_cat  prod_sub_cat_code  prod_subcat  \n",
      "23043      M        8.0             Books                 10  Non-Fiction  \n",
      "23044      M        4.0       Electronics                  4      Mobiles  \n",
      "23045      F        8.0             Books                  6          DIY  \n",
      "23046      F        6.0  Home and kitchen                 11         Bath  \n",
      "23047      M        4.0          Footwear                  4         Kids  \n",
      "23048      M        7.0             Books                 12     Academic  \n",
      "23049      M        9.0          Clothing                  4         Mens  \n",
      "23050      M        8.0  Home and kitchen                  2   Furnishing  \n",
      "23051      M        2.0             Books                 11     Children  \n",
      "23052      M        1.0             Books                 11     Children  \n"
     ]
    }
   ],
   "source": [
    "print(Customer_Final.head(10))\n",
    "print(Customer_Final.tail(10))"
   ]
  },
  {
   "cell_type": "markdown",
   "id": "98942bfe",
   "metadata": {},
   "source": [
    "#### c. “Five-number summary” for continuous variables (min, Q1, median, Q3 and max)\n"
   ]
  },
  {
   "cell_type": "code",
   "execution_count": 10,
   "id": "515553df",
   "metadata": {},
   "outputs": [
    {
     "data": {
      "text/html": [
       "<div>\n",
       "<style scoped>\n",
       "    .dataframe tbody tr th:only-of-type {\n",
       "        vertical-align: middle;\n",
       "    }\n",
       "\n",
       "    .dataframe tbody tr th {\n",
       "        vertical-align: top;\n",
       "    }\n",
       "\n",
       "    .dataframe thead th {\n",
       "        text-align: right;\n",
       "    }\n",
       "</style>\n",
       "<table border=\"1\" class=\"dataframe\">\n",
       "  <thead>\n",
       "    <tr style=\"text-align: right;\">\n",
       "      <th></th>\n",
       "      <th>Qty</th>\n",
       "      <th>Rate</th>\n",
       "      <th>Tax</th>\n",
       "      <th>total_amt</th>\n",
       "    </tr>\n",
       "  </thead>\n",
       "  <tbody>\n",
       "    <tr>\n",
       "      <th>count</th>\n",
       "      <td>23053.000000</td>\n",
       "      <td>23053.000000</td>\n",
       "      <td>23053.000000</td>\n",
       "      <td>23053.000000</td>\n",
       "    </tr>\n",
       "    <tr>\n",
       "      <th>mean</th>\n",
       "      <td>2.432395</td>\n",
       "      <td>636.369713</td>\n",
       "      <td>248.667192</td>\n",
       "      <td>2107.308002</td>\n",
       "    </tr>\n",
       "    <tr>\n",
       "      <th>std</th>\n",
       "      <td>2.268406</td>\n",
       "      <td>622.363498</td>\n",
       "      <td>187.177773</td>\n",
       "      <td>2507.561264</td>\n",
       "    </tr>\n",
       "    <tr>\n",
       "      <th>min</th>\n",
       "      <td>-5.000000</td>\n",
       "      <td>-1499.000000</td>\n",
       "      <td>7.350000</td>\n",
       "      <td>-8270.925000</td>\n",
       "    </tr>\n",
       "    <tr>\n",
       "      <th>25%</th>\n",
       "      <td>1.000000</td>\n",
       "      <td>312.000000</td>\n",
       "      <td>98.280000</td>\n",
       "      <td>762.450000</td>\n",
       "    </tr>\n",
       "    <tr>\n",
       "      <th>50%</th>\n",
       "      <td>3.000000</td>\n",
       "      <td>710.000000</td>\n",
       "      <td>199.080000</td>\n",
       "      <td>1754.740000</td>\n",
       "    </tr>\n",
       "    <tr>\n",
       "      <th>75%</th>\n",
       "      <td>4.000000</td>\n",
       "      <td>1109.000000</td>\n",
       "      <td>365.715000</td>\n",
       "      <td>3569.150000</td>\n",
       "    </tr>\n",
       "    <tr>\n",
       "      <th>max</th>\n",
       "      <td>5.000000</td>\n",
       "      <td>1500.000000</td>\n",
       "      <td>787.500000</td>\n",
       "      <td>8287.500000</td>\n",
       "    </tr>\n",
       "  </tbody>\n",
       "</table>\n",
       "</div>"
      ],
      "text/plain": [
       "                Qty          Rate           Tax     total_amt\n",
       "count  23053.000000  23053.000000  23053.000000  23053.000000\n",
       "mean       2.432395    636.369713    248.667192   2107.308002\n",
       "std        2.268406    622.363498    187.177773   2507.561264\n",
       "min       -5.000000  -1499.000000      7.350000  -8270.925000\n",
       "25%        1.000000    312.000000     98.280000    762.450000\n",
       "50%        3.000000    710.000000    199.080000   1754.740000\n",
       "75%        4.000000   1109.000000    365.715000   3569.150000\n",
       "max        5.000000   1500.000000    787.500000   8287.500000"
      ]
     },
     "execution_count": 10,
     "metadata": {},
     "output_type": "execute_result"
    }
   ],
   "source": [
    "cont_var = ['Qty', 'Rate', 'Tax', 'total_amt']\n",
    "Customer_Final.loc[:,cont_var].describe()"
   ]
  },
  {
   "cell_type": "markdown",
   "id": "2a1ee696",
   "metadata": {},
   "source": [
    "#### d. Frequency tables for all the categorical variables\n"
   ]
  },
  {
   "cell_type": "code",
   "execution_count": 11,
   "id": "18e6a4ce",
   "metadata": {},
   "outputs": [
    {
     "name": "stdout",
     "output_type": "stream",
     "text": [
      "4170892941     4\n",
      "32263938079    4\n",
      "426787191      4\n",
      "91377906980    3\n",
      "44125492691    3\n",
      "              ..\n",
      "88791150012    1\n",
      "17648795819    1\n",
      "25673128667    1\n",
      "14616200775    1\n",
      "77960931771    1\n",
      "Name: transaction_id, Length: 20878, dtype: int64\n",
      "269449    13\n",
      "268819    13\n",
      "272286    12\n",
      "270831    12\n",
      "272415    12\n",
      "          ..\n",
      "270876     1\n",
      "272472     1\n",
      "273867     1\n",
      "274139     1\n",
      "273723     1\n",
      "Name: cust_id, Length: 5506, dtype: int64\n",
      "13-07-2011    35\n",
      "21-12-2013    33\n",
      "23-10-2011    33\n",
      "22-11-2011    33\n",
      "25-09-2011    33\n",
      "              ..\n",
      "23-02-2014     2\n",
      "24-02-2014     2\n",
      "27-02-2014     1\n",
      "21-02-2014     1\n",
      "28-02-2014     1\n",
      "Name: tran_date, Length: 1129, dtype: int64\n",
      "4     4002\n",
      "3     3067\n",
      "10    2993\n",
      "1     2950\n",
      "11    2058\n",
      "12    2029\n",
      "7     1043\n",
      "2     1007\n",
      "6      989\n",
      "9      985\n",
      "8      972\n",
      "5      958\n",
      "Name: prod_subcat_code, dtype: int64\n",
      "5    6069\n",
      "3    4898\n",
      "6    4129\n",
      "2    2999\n",
      "1    2960\n",
      "4    1998\n",
      "Name: prod_cat_code, dtype: int64\n",
      "e-Shop            9311\n",
      "MBR               4661\n",
      "Flagship store    4577\n",
      "TeleShop          4504\n",
      "Name: Store_type, dtype: int64\n",
      "27-12-1988    32\n",
      "17-09-1982    32\n",
      "25-02-1974    27\n",
      "20-03-1972    25\n",
      "18-11-1991    24\n",
      "              ..\n",
      "29-01-1976     1\n",
      "01-05-1980     1\n",
      "23-06-1988     1\n",
      "25-06-1985     1\n",
      "10-06-1972     1\n",
      "Name: DOB, Length: 3987, dtype: int64\n",
      "M    11811\n",
      "F    11233\n",
      "Name: Gender, dtype: int64\n",
      "4.0     2422\n",
      "3.0     2411\n",
      "5.0     2360\n",
      "7.0     2356\n",
      "10.0    2333\n",
      "8.0     2330\n",
      "2.0     2270\n",
      "1.0     2258\n",
      "9.0     2178\n",
      "6.0     2127\n",
      "Name: city_code, dtype: int64\n",
      "Books               6069\n",
      "Electronics         4898\n",
      "Home and kitchen    4129\n",
      "Footwear            2999\n",
      "Clothing            2960\n",
      "Bags                1998\n",
      "Name: prod_cat, dtype: int64\n",
      "Women                  3048\n",
      "Mens                   2912\n",
      "Kids                   1997\n",
      "Tools                  1062\n",
      "Fiction                1043\n",
      "Kitchen                1037\n",
      "Children               1035\n",
      "Mobiles                1031\n",
      "Comics                 1031\n",
      "Bath                   1023\n",
      "Furnishing             1007\n",
      "Non-Fiction            1004\n",
      "DIY                     989\n",
      "Cameras                 985\n",
      "Personal Appliances     972\n",
      "Academic                967\n",
      "Computers               958\n",
      "Audio and video         952\n",
      "Name: prod_subcat, dtype: int64\n"
     ]
    }
   ],
   "source": [
    "cate_var = ['transaction_id', 'cust_id', 'tran_date', 'prod_subcat_code', 'prod_cat_code', 'Store_type', 'DOB', 'Gender', 'city_code', 'prod_cat', 'prod_subcat']\n",
    "for i in cate_var:\n",
    "    A = Customer_Final.loc[:,i].value_counts()\n",
    "    print(A)"
   ]
  },
  {
   "cell_type": "markdown",
   "id": "46c6a32b",
   "metadata": {},
   "source": [
    "### 3. Generate histograms for all continuous variables and frequency bars for categorical variables.\n"
   ]
  },
  {
   "cell_type": "code",
   "execution_count": 12,
   "id": "6e7fbd41",
   "metadata": {},
   "outputs": [
    {
     "data": {
      "image/png": "[encoded data removed]",
      "text/plain": [
       "<Figure size 640x480 with 4 Axes>"
      ]
     },
     "metadata": {},
     "output_type": "display_data"
    }
   ],
   "source": [
    "Customer_Final.loc[:,cont_var].hist()\n",
    "plt.show()"
   ]
  },
  {
   "cell_type": "code",
   "execution_count": 13,
   "id": "c44cacf4",
   "metadata": {},
   "outputs": [
    {
     "name": "stderr",
     "output_type": "stream",
     "text": [
      "C:\\Anaconda\\lib\\site-packages\\seaborn\\_decorators.py:36: FutureWarning: Pass the following variable as a keyword arg: x. From version 0.12, the only valid positional argument will be `data`, and passing other arguments without an explicit keyword will result in an error or misinterpretation.\n",
      "  warnings.warn(\n"
     ]
    },
    {
     "data": {
      "image/png": "[encoded data removed]",
      "text/plain": [
       "<Figure size 640x480 with 1 Axes>"
      ]
     },
     "metadata": {},
     "output_type": "display_data"
    },
    {
     "name": "stderr",
     "output_type": "stream",
     "text": [
      "C:\\Anaconda\\lib\\site-packages\\seaborn\\_decorators.py:36: FutureWarning: Pass the following variable as a keyword arg: x. From version 0.12, the only valid positional argument will be `data`, and passing other arguments without an explicit keyword will result in an error or misinterpretation.\n",
      "  warnings.warn(\n"
     ]
    },
    {
     "data": {
      "image/png": "[encoded data removed]",
      "text/plain": [
       "<Figure size 640x480 with 1 Axes>"
      ]
     },
     "metadata": {},
     "output_type": "display_data"
    },
    {
     "name": "stderr",
     "output_type": "stream",
     "text": [
      "C:\\Anaconda\\lib\\site-packages\\seaborn\\_decorators.py:36: FutureWarning: Pass the following variable as a keyword arg: x. From version 0.12, the only valid positional argument will be `data`, and passing other arguments without an explicit keyword will result in an error or misinterpretation.\n",
      "  warnings.warn(\n"
     ]
    },
    {
     "data": {
      "image/png": "[encoded data removed]",
      "text/plain": [
       "<Figure size 640x480 with 1 Axes>"
      ]
     },
     "metadata": {},
     "output_type": "display_data"
    },
    {
     "name": "stderr",
     "output_type": "stream",
     "text": [
      "C:\\Anaconda\\lib\\site-packages\\seaborn\\_decorators.py:36: FutureWarning: Pass the following variable as a keyword arg: x. From version 0.12, the only valid positional argument will be `data`, and passing other arguments without an explicit keyword will result in an error or misinterpretation.\n",
      "  warnings.warn(\n"
     ]
    },
    {
     "data": {
      "image/png": "[encoded data removed]",
      "text/plain": [
       "<Figure size 640x480 with 1 Axes>"
      ]
     },
     "metadata": {},
     "output_type": "display_data"
    },
    {
     "name": "stderr",
     "output_type": "stream",
     "text": [
      "C:\\Anaconda\\lib\\site-packages\\seaborn\\_decorators.py:36: FutureWarning: Pass the following variable as a keyword arg: x. From version 0.12, the only valid positional argument will be `data`, and passing other arguments without an explicit keyword will result in an error or misinterpretation.\n",
      "  warnings.warn(\n"
     ]
    },
    {
     "data": {
      "image/png": "[encoded data removed]",
      "text/plain": [
       "<Figure size 640x480 with 1 Axes>"
      ]
     },
     "metadata": {},
     "output_type": "display_data"
    },
    {
     "name": "stderr",
     "output_type": "stream",
     "text": [
      "C:\\Anaconda\\lib\\site-packages\\seaborn\\_decorators.py:36: FutureWarning: Pass the following variable as a keyword arg: x. From version 0.12, the only valid positional argument will be `data`, and passing other arguments without an explicit keyword will result in an error or misinterpretation.\n",
      "  warnings.warn(\n"
     ]
    },
    {
     "data": {
      "image/png": "[encoded data removed]",
      "text/plain": [
       "<Figure size 640x480 with 1 Axes>"
      ]
     },
     "metadata": {},
     "output_type": "display_data"
    }
   ],
   "source": [
    "sns.countplot(Customer_Final.prod_subcat_code)\n",
    "plt.show()\n",
    "\n",
    "sns.countplot(Customer_Final.prod_cat_code)\n",
    "plt.show()\n",
    "\n",
    "sns.countplot(Customer_Final.Store_type)\n",
    "plt.show()\n",
    "\n",
    "sns.countplot(Customer_Final.Gender)\n",
    "plt.show()\n",
    "\n",
    "sns.countplot(Customer_Final.city_code)\n",
    "plt.show()\n",
    "\n",
    "sns.countplot(Customer_Final.prod_subcat)\n",
    "plt.xticks(rotation = 45)\n",
    "plt.show()\n",
    "\n",
    "# Not plotting for transaction_id, cust_id, tran_date and DOB as these will not be any useful insight"
   ]
  },
  {
   "cell_type": "markdown",
   "id": "c1ada87a",
   "metadata": {},
   "source": [
    "### 4. Calculate the following information using the merged dataset :\n"
   ]
  },
  {
   "cell_type": "markdown",
   "id": "ddb7fd61",
   "metadata": {},
   "source": [
    "#### a. Time period of the available transaction data\n"
   ]
  },
  {
   "cell_type": "code",
   "execution_count": 14,
   "id": "2fb68b43",
   "metadata": {},
   "outputs": [
    {
     "name": "stdout",
     "output_type": "stream",
     "text": [
      " The period of data is from : 2011-01-25 00:00:00  to : 2014-02-28 00:00:00 | Total days data : 1130 days 00:00:00\n"
     ]
    }
   ],
   "source": [
    "A = Customer_Final\n",
    "A['tran_date'] = A['tran_date'].apply(lambda x: x.replace('/', '-'))\n",
    "A['TD'] = A.tran_date.apply(lambda x: dt.datetime.strptime(x,\"%d-%m-%Y\"))\n",
    "print(' The period of data is from :', A.TD.min(), ' to :', A.TD.max() , '| Total days data :', A.TD.max() - A.TD.min())\n"
   ]
  },
  {
   "cell_type": "markdown",
   "id": "67a4dc0a",
   "metadata": {},
   "source": [
    "#### b. Count of transactions where the total amount of transaction was negative\n"
   ]
  },
  {
   "cell_type": "code",
   "execution_count": 16,
   "id": "900525c9",
   "metadata": {},
   "outputs": [
    {
     "data": {
      "text/plain": [
       "2177"
      ]
     },
     "execution_count": 16,
     "metadata": {},
     "output_type": "execute_result"
    }
   ],
   "source": [
    "B = Customer_Final\n",
    "B.loc[B['total_amt']<0, 'cust_id'].count()"
   ]
  },
  {
   "cell_type": "markdown",
   "id": "d3954e61",
   "metadata": {},
   "source": [
    "### 5. Analyze which product categories are more popular among females vs male customers.\n"
   ]
  },
  {
   "cell_type": "code",
   "execution_count": 57,
   "id": "f44c55d4",
   "metadata": {},
   "outputs": [
    {
     "data": {
      "text/html": [
       "<div>\n",
       "<style scoped>\n",
       "    .dataframe tbody tr th:only-of-type {\n",
       "        vertical-align: middle;\n",
       "    }\n",
       "\n",
       "    .dataframe tbody tr th {\n",
       "        vertical-align: top;\n",
       "    }\n",
       "\n",
       "    .dataframe thead th {\n",
       "        text-align: right;\n",
       "    }\n",
       "</style>\n",
       "<table border=\"1\" class=\"dataframe\">\n",
       "  <thead>\n",
       "    <tr style=\"text-align: right;\">\n",
       "      <th>prod_cat</th>\n",
       "      <th>Bags</th>\n",
       "      <th>Books</th>\n",
       "      <th>Clothing</th>\n",
       "      <th>Electronics</th>\n",
       "      <th>Footwear</th>\n",
       "      <th>Home and kitchen</th>\n",
       "    </tr>\n",
       "    <tr>\n",
       "      <th>Gender</th>\n",
       "      <th></th>\n",
       "      <th></th>\n",
       "      <th></th>\n",
       "      <th></th>\n",
       "      <th></th>\n",
       "      <th></th>\n",
       "    </tr>\n",
       "  </thead>\n",
       "  <tbody>\n",
       "    <tr>\n",
       "      <th>F</th>\n",
       "      <td>2362</td>\n",
       "      <td>7070</td>\n",
       "      <td>3425</td>\n",
       "      <td>5832</td>\n",
       "      <td>3716</td>\n",
       "      <td>4895</td>\n",
       "    </tr>\n",
       "    <tr>\n",
       "      <th>M</th>\n",
       "      <td>2346</td>\n",
       "      <td>7587</td>\n",
       "      <td>3748</td>\n",
       "      <td>6476</td>\n",
       "      <td>3555</td>\n",
       "      <td>5041</td>\n",
       "    </tr>\n",
       "  </tbody>\n",
       "</table>\n",
       "</div>"
      ],
      "text/plain": [
       "prod_cat  Bags  Books  Clothing  Electronics  Footwear  Home and kitchen\n",
       "Gender                                                                  \n",
       "F         2362   7070      3425         5832      3716              4895\n",
       "M         2346   7587      3748         6476      3555              5041"
      ]
     },
     "execution_count": 57,
     "metadata": {},
     "output_type": "execute_result"
    }
   ],
   "source": [
    "C = Customer_Final.groupby([\"Gender\",\"prod_cat\"])[[\"Qty\"]].sum().reset_index()\n",
    "C.pivot(index=\"Gender\",columns=\"prod_cat\",values=\"Qty\")\n",
    "\n",
    "# As per the results, only Bags and Footwear are the 2 categories which have more female contribution vs male"
   ]
  },
  {
   "cell_type": "markdown",
   "id": "40eb98ab",
   "metadata": {},
   "source": [
    "### 6. Which City code has the maximum customers and what was the percentage of customers from that city?"
   ]
  },
  {
   "cell_type": "code",
   "execution_count": 106,
   "id": "a5939879",
   "metadata": {},
   "outputs": [
    {
     "name": "stdout",
     "output_type": "stream",
     "text": [
      "City code which has the maximum customers :  3.0\n"
     ]
    }
   ],
   "source": [
    "D = Customer_Final.drop_duplicates(subset = ['cust_id'])\n",
    "E = D.city_code.value_counts().sort_values(ascending = False).reset_index()\n",
    "\n",
    "print('City code which has the maximum customers : ',E.iloc[0,0])"
   ]
  },
  {
   "cell_type": "code",
   "execution_count": 111,
   "id": "f64bd02a",
   "metadata": {},
   "outputs": [
    {
     "name": "stdout",
     "output_type": "stream",
     "text": [
      "Percentage of customers from the city code which has the maximum customers :  10.465116279069768 %\n"
     ]
    }
   ],
   "source": [
    "print('Percentage of customers from the city code which has the maximum customers : ', (E.iloc[0,1])/(E.city_code.sum())*100,'%')"
   ]
  },
  {
   "cell_type": "markdown",
   "id": "ed9c303a",
   "metadata": {},
   "source": [
    "### 7. Which store type sells the maximum products by value and by quantity?\n"
   ]
  },
  {
   "cell_type": "code",
   "execution_count": 117,
   "id": "9e2e4969",
   "metadata": {},
   "outputs": [
    {
     "data": {
      "text/html": [
       "<div>\n",
       "<style scoped>\n",
       "    .dataframe tbody tr th:only-of-type {\n",
       "        vertical-align: middle;\n",
       "    }\n",
       "\n",
       "    .dataframe tbody tr th {\n",
       "        vertical-align: top;\n",
       "    }\n",
       "\n",
       "    .dataframe thead th {\n",
       "        text-align: right;\n",
       "    }\n",
       "</style>\n",
       "<table border=\"1\" class=\"dataframe\">\n",
       "  <thead>\n",
       "    <tr style=\"text-align: right;\">\n",
       "      <th></th>\n",
       "      <th>Qty</th>\n",
       "    </tr>\n",
       "    <tr>\n",
       "      <th>Store_type</th>\n",
       "      <th></th>\n",
       "    </tr>\n",
       "  </thead>\n",
       "  <tbody>\n",
       "    <tr>\n",
       "      <th>e-Shop</th>\n",
       "      <td>22763</td>\n",
       "    </tr>\n",
       "    <tr>\n",
       "      <th>MBR</th>\n",
       "      <td>11194</td>\n",
       "    </tr>\n",
       "    <tr>\n",
       "      <th>Flagship store</th>\n",
       "      <td>11133</td>\n",
       "    </tr>\n",
       "    <tr>\n",
       "      <th>TeleShop</th>\n",
       "      <td>10984</td>\n",
       "    </tr>\n",
       "  </tbody>\n",
       "</table>\n",
       "</div>"
      ],
      "text/plain": [
       "                  Qty\n",
       "Store_type           \n",
       "e-Shop          22763\n",
       "MBR             11194\n",
       "Flagship store  11133\n",
       "TeleShop        10984"
      ]
     },
     "execution_count": 117,
     "metadata": {},
     "output_type": "execute_result"
    }
   ],
   "source": [
    "Customer_Final.groupby('Store_type')[['Qty']].sum().sort_values('Qty', ascending = False)\n",
    "# e-shop sells the maximum products by quantity"
   ]
  },
  {
   "cell_type": "code",
   "execution_count": 118,
   "id": "9681be3c",
   "metadata": {},
   "outputs": [
    {
     "data": {
      "text/html": [
       "<div>\n",
       "<style scoped>\n",
       "    .dataframe tbody tr th:only-of-type {\n",
       "        vertical-align: middle;\n",
       "    }\n",
       "\n",
       "    .dataframe tbody tr th {\n",
       "        vertical-align: top;\n",
       "    }\n",
       "\n",
       "    .dataframe thead th {\n",
       "        text-align: right;\n",
       "    }\n",
       "</style>\n",
       "<table border=\"1\" class=\"dataframe\">\n",
       "  <thead>\n",
       "    <tr style=\"text-align: right;\">\n",
       "      <th></th>\n",
       "      <th>total_amt</th>\n",
       "    </tr>\n",
       "    <tr>\n",
       "      <th>Store_type</th>\n",
       "      <th></th>\n",
       "    </tr>\n",
       "  </thead>\n",
       "  <tbody>\n",
       "    <tr>\n",
       "      <th>e-Shop</th>\n",
       "      <td>1.982482e+07</td>\n",
       "    </tr>\n",
       "    <tr>\n",
       "      <th>Flagship store</th>\n",
       "      <td>9.715688e+06</td>\n",
       "    </tr>\n",
       "    <tr>\n",
       "      <th>MBR</th>\n",
       "      <td>9.674486e+06</td>\n",
       "    </tr>\n",
       "    <tr>\n",
       "      <th>TeleShop</th>\n",
       "      <td>9.364781e+06</td>\n",
       "    </tr>\n",
       "  </tbody>\n",
       "</table>\n",
       "</div>"
      ],
      "text/plain": [
       "                   total_amt\n",
       "Store_type                  \n",
       "e-Shop          1.982482e+07\n",
       "Flagship store  9.715688e+06\n",
       "MBR             9.674486e+06\n",
       "TeleShop        9.364781e+06"
      ]
     },
     "execution_count": 118,
     "metadata": {},
     "output_type": "execute_result"
    }
   ],
   "source": [
    "Customer_Final.groupby('Store_type')[['total_amt']].sum().sort_values('total_amt', ascending = False)\n",
    "# e-shop sells the maximum products by value as well"
   ]
  },
  {
   "cell_type": "markdown",
   "id": "9c16d9bd",
   "metadata": {},
   "source": [
    "### 8. What was the total amount earned from the \"Electronics\" and \"Clothing\" categories from Flagship Stores?"
   ]
  },
  {
   "cell_type": "code",
   "execution_count": 210,
   "id": "57b89d46",
   "metadata": {},
   "outputs": [
    {
     "data": {
      "text/plain": [
       "3409559.27"
      ]
     },
     "execution_count": 210,
     "metadata": {},
     "output_type": "execute_result"
    }
   ],
   "source": [
    "A = Customer_Final.loc[Customer_Final['prod_cat'].isin(['Clothing', 'Electronics'])]\n",
    "A.loc[A['Store_type'] == 'Flagship store', 'total_amt'].sum()"
   ]
  },
  {
   "cell_type": "markdown",
   "id": "23f619a8",
   "metadata": {},
   "source": [
    "### 9. What was the total amount earned from \"Male\" customers under the \"Electronics\" category?\n"
   ]
  },
  {
   "cell_type": "code",
   "execution_count": 211,
   "id": "d3da7de0",
   "metadata": {},
   "outputs": [
    {
     "data": {
      "text/plain": [
       "5703109.424999999"
      ]
     },
     "execution_count": 211,
     "metadata": {},
     "output_type": "execute_result"
    }
   ],
   "source": [
    "B = Customer_Final.loc[Customer_Final['Gender'] == 'M']\n",
    "B.loc[B['prod_cat'] == 'Electronics', 'total_amt'].sum()"
   ]
  },
  {
   "cell_type": "markdown",
   "id": "c6a0b1c3",
   "metadata": {},
   "source": [
    "### 10. How many customers have more than 10 unique transactions, after removing all transactions which have any negative amounts?\n"
   ]
  },
  {
   "cell_type": "code",
   "execution_count": 212,
   "id": "8c179d05",
   "metadata": {},
   "outputs": [
    {
     "data": {
      "text/plain": [
       "cust_id    6\n",
       "dtype: int64"
      ]
     },
     "execution_count": 212,
     "metadata": {},
     "output_type": "execute_result"
    }
   ],
   "source": [
    "G = Customer_Final.loc[Customer_Final['total_amt'] > 0]\n",
    "G = G.drop_duplicates(subset = 'transaction_id')\n",
    "H = pd.DataFrame(G.cust_id.value_counts())\n",
    "H.reset_index()\n",
    "H.loc[H['cust_id']>10].count()\n",
    "\n",
    "# There are 6 customers who have more than 10 unique transactions"
   ]
  },
  {
   "cell_type": "markdown",
   "id": "05564483",
   "metadata": {},
   "source": [
    "### 11. For all customers aged between 25 - 35, find out:\n"
   ]
  },
  {
   "cell_type": "markdown",
   "id": "ff7f3567",
   "metadata": {},
   "source": [
    "#### a. What was the total amount spent for “Electronics” and “Books” product categories?\n"
   ]
  },
  {
   "cell_type": "code",
   "execution_count": 224,
   "id": "c6a95828",
   "metadata": {},
   "outputs": [
    {
     "data": {
      "text/plain": [
       "10100122.11"
      ]
     },
     "execution_count": 224,
     "metadata": {},
     "output_type": "execute_result"
    }
   ],
   "source": [
    "I = Customer_Final\n",
    "I['DB'] = I.DOB.apply(lambda x: dt.datetime.strptime(x,\"%d-%m-%Y\"))\n",
    "I['Age'] = (I.TD - I.DB)/365\n",
    "I = I.loc[I['Age'] > '25 days' ]\n",
    "I = I.loc[I['Age'] < '35 days' ]\n",
    "I.loc[I['prod_cat'].isin(['Books', 'Electronics']), 'total_amt'].sum()"
   ]
  },
  {
   "cell_type": "markdown",
   "id": "227929e8",
   "metadata": {},
   "source": [
    "####  b. What was the total amount spent by these customers between 1st Jan, 2014 to 1st Mar, 2014?\n"
   ]
  },
  {
   "cell_type": "code",
   "execution_count": 225,
   "id": "6a7480a0",
   "metadata": {},
   "outputs": [
    {
     "data": {
      "text/plain": [
       "996649.225"
      ]
     },
     "execution_count": 225,
     "metadata": {},
     "output_type": "execute_result"
    }
   ],
   "source": [
    "# As data is only till 28th Feb 2014 no need to set the <= date\n",
    "I = I[I['TD'] >= '2014-01-01' ]\n",
    "I.total_amt.sum()"
   ]
  },
  {
   "cell_type": "markdown",
   "id": "e00fee0a",
   "metadata": {},
   "source": [
    "# THE END"
   ]
  }
 ],
 "metadata": {
  "kernelspec": {
   "display_name": "Python 3 (ipykernel)",
   "language": "python",
   "name": "python3"
  },
  "language_info": {
   "codemirror_mode": {
    "name": "ipython",
    "version": 3
   },
   "file_extension": ".py",
   "mimetype": "text/x-python",
   "name": "python",
   "nbconvert_exporter": "python",
   "pygments_lexer": "ipython3",
   "version": "3.9.13"
  }
 },
 "nbformat": 4,
 "nbformat_minor": 5
}
