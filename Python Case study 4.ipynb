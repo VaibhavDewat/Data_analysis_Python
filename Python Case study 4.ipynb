{
 "cells": [
  {
   "cell_type": "code",
   "execution_count": 252,
   "id": "e4218b7b",
   "metadata": {},
   "outputs": [],
   "source": [
    "import numpy as np\n",
    "import pandas as pd\n",
    "import matplotlib.pyplot as plt\n",
    "import seaborn as sns\n",
    "import statistics\n",
    "import scipy.stats as stats  #for the statistical tests\n",
    "%matplotlib inline"
   ]
  },
  {
   "cell_type": "markdown",
   "id": "05bb38aa",
   "metadata": {},
   "source": [
    "# BUSINESS PROBLEM-1"
   ]
  },
  {
   "cell_type": "markdown",
   "id": "6d0ea472",
   "metadata": {},
   "source": [
    "## a. Intrest rate is varied for different loan amounts (Less intrest charged for high loan amounts)"
   ]
  },
  {
   "cell_type": "code",
   "execution_count": 113,
   "id": "afddc42b",
   "metadata": {},
   "outputs": [],
   "source": [
    "# Extracting data\n",
    "loan_data = pd.read_csv('C:/Users/Vaibhav Dewat/Downloads/Analytix Lab course/Case Study/4. Basic Statistics - Hypothesis Testing/LoansData.csv')"
   ]
  },
  {
   "cell_type": "code",
   "execution_count": 194,
   "id": "30854b28",
   "metadata": {},
   "outputs": [
    {
     "name": "stdout",
     "output_type": "stream",
     "text": [
      "<class 'pandas.core.frame.DataFrame'>\n",
      "RangeIndex: 2500 entries, 0 to 2499\n",
      "Data columns (total 15 columns):\n",
      " #   Column                          Non-Null Count  Dtype  \n",
      "---  ------                          --------------  -----  \n",
      " 0   Amount_Requested                2499 non-null   float64\n",
      " 1   Amount_Funded_By_Investors      2500 non-null   object \n",
      " 2   Interest_Rate                   2500 non-null   object \n",
      " 3   Loan_Length                     2500 non-null   object \n",
      " 4   Loan_Purpose                    2500 non-null   object \n",
      " 5   Debt_To_Income_Ratio            2499 non-null   object \n",
      " 6   State                           2500 non-null   object \n",
      " 7   Home_Ownership                  2499 non-null   object \n",
      " 8   Monthly_Income                  2499 non-null   float64\n",
      " 9   FICO_Range                      2498 non-null   object \n",
      " 10  Open_CREDIT_Lines               2497 non-null   float64\n",
      " 11  Revolving_CREDIT_Balance        2497 non-null   float64\n",
      " 12  Inquiries_in_the_Last_6_Months  2497 non-null   float64\n",
      " 13  Employment_Length               2423 non-null   object \n",
      " 14  FICO                            2498 non-null   object \n",
      "dtypes: float64(5), object(10)\n",
      "memory usage: 293.1+ KB\n"
     ]
    }
   ],
   "source": [
    "# Understanding data\n",
    "loan_data.info()"
   ]
  },
  {
   "cell_type": "code",
   "execution_count": 119,
   "id": "a9d62eee",
   "metadata": {},
   "outputs": [
    {
     "data": {
      "text/html": [
       "<div>\n",
       "<style scoped>\n",
       "    .dataframe tbody tr th:only-of-type {\n",
       "        vertical-align: middle;\n",
       "    }\n",
       "\n",
       "    .dataframe tbody tr th {\n",
       "        vertical-align: top;\n",
       "    }\n",
       "\n",
       "    .dataframe thead th {\n",
       "        text-align: right;\n",
       "    }\n",
       "</style>\n",
       "<table border=\"1\" class=\"dataframe\">\n",
       "  <thead>\n",
       "    <tr style=\"text-align: right;\">\n",
       "      <th></th>\n",
       "      <th>Amount_Requested</th>\n",
       "      <th>Amount_Funded_By_Investors</th>\n",
       "      <th>Interest_Rate</th>\n",
       "      <th>Loan_Length</th>\n",
       "      <th>Loan_Purpose</th>\n",
       "      <th>Debt_To_Income_Ratio</th>\n",
       "      <th>State</th>\n",
       "      <th>Home_Ownership</th>\n",
       "      <th>Monthly_Income</th>\n",
       "      <th>FICO_Range</th>\n",
       "      <th>Open_CREDIT_Lines</th>\n",
       "      <th>Revolving_CREDIT_Balance</th>\n",
       "      <th>Inquiries_in_the_Last_6_Months</th>\n",
       "      <th>Employment_Length</th>\n",
       "    </tr>\n",
       "  </thead>\n",
       "  <tbody>\n",
       "    <tr>\n",
       "      <th>0</th>\n",
       "      <td>20000.0</td>\n",
       "      <td>20000.0</td>\n",
       "      <td>8.90</td>\n",
       "      <td>36 months</td>\n",
       "      <td>debt_consolidation</td>\n",
       "      <td>14.90%</td>\n",
       "      <td>SC</td>\n",
       "      <td>MORTGAGE</td>\n",
       "      <td>6541.67</td>\n",
       "      <td>735-739</td>\n",
       "      <td>14.0</td>\n",
       "      <td>14272.0</td>\n",
       "      <td>2.0</td>\n",
       "      <td>&lt; 1 year</td>\n",
       "    </tr>\n",
       "    <tr>\n",
       "      <th>1</th>\n",
       "      <td>19200.0</td>\n",
       "      <td>19200.0</td>\n",
       "      <td>12.12</td>\n",
       "      <td>36 months</td>\n",
       "      <td>debt_consolidation</td>\n",
       "      <td>28.36%</td>\n",
       "      <td>TX</td>\n",
       "      <td>MORTGAGE</td>\n",
       "      <td>4583.33</td>\n",
       "      <td>715-719</td>\n",
       "      <td>12.0</td>\n",
       "      <td>11140.0</td>\n",
       "      <td>1.0</td>\n",
       "      <td>2 years</td>\n",
       "    </tr>\n",
       "    <tr>\n",
       "      <th>2</th>\n",
       "      <td>35000.0</td>\n",
       "      <td>35000.0</td>\n",
       "      <td>21.98</td>\n",
       "      <td>60 months</td>\n",
       "      <td>debt_consolidation</td>\n",
       "      <td>23.81%</td>\n",
       "      <td>CA</td>\n",
       "      <td>MORTGAGE</td>\n",
       "      <td>11500.00</td>\n",
       "      <td>690-694</td>\n",
       "      <td>14.0</td>\n",
       "      <td>21977.0</td>\n",
       "      <td>1.0</td>\n",
       "      <td>2 years</td>\n",
       "    </tr>\n",
       "    <tr>\n",
       "      <th>3</th>\n",
       "      <td>10000.0</td>\n",
       "      <td>9975.0</td>\n",
       "      <td>9.99</td>\n",
       "      <td>36 months</td>\n",
       "      <td>debt_consolidation</td>\n",
       "      <td>14.30%</td>\n",
       "      <td>KS</td>\n",
       "      <td>MORTGAGE</td>\n",
       "      <td>3833.33</td>\n",
       "      <td>695-699</td>\n",
       "      <td>10.0</td>\n",
       "      <td>9346.0</td>\n",
       "      <td>0.0</td>\n",
       "      <td>5 years</td>\n",
       "    </tr>\n",
       "    <tr>\n",
       "      <th>4</th>\n",
       "      <td>12000.0</td>\n",
       "      <td>12000.0</td>\n",
       "      <td>11.71</td>\n",
       "      <td>36 months</td>\n",
       "      <td>credit_card</td>\n",
       "      <td>18.78%</td>\n",
       "      <td>NJ</td>\n",
       "      <td>RENT</td>\n",
       "      <td>3195.00</td>\n",
       "      <td>695-699</td>\n",
       "      <td>11.0</td>\n",
       "      <td>14469.0</td>\n",
       "      <td>0.0</td>\n",
       "      <td>9 years</td>\n",
       "    </tr>\n",
       "  </tbody>\n",
       "</table>\n",
       "</div>"
      ],
      "text/plain": [
       "   Amount_Requested  Amount_Funded_By_Investors  Interest_Rate Loan_Length  \\\n",
       "0           20000.0                     20000.0           8.90   36 months   \n",
       "1           19200.0                     19200.0          12.12   36 months   \n",
       "2           35000.0                     35000.0          21.98   60 months   \n",
       "3           10000.0                      9975.0           9.99   36 months   \n",
       "4           12000.0                     12000.0          11.71   36 months   \n",
       "\n",
       "         Loan_Purpose Debt_To_Income_Ratio State Home_Ownership  \\\n",
       "0  debt_consolidation               14.90%    SC       MORTGAGE   \n",
       "1  debt_consolidation               28.36%    TX       MORTGAGE   \n",
       "2  debt_consolidation               23.81%    CA       MORTGAGE   \n",
       "3  debt_consolidation               14.30%    KS       MORTGAGE   \n",
       "4         credit_card               18.78%    NJ           RENT   \n",
       "\n",
       "   Monthly_Income FICO_Range  Open_CREDIT_Lines  Revolving_CREDIT_Balance  \\\n",
       "0         6541.67    735-739               14.0                   14272.0   \n",
       "1         4583.33    715-719               12.0                   11140.0   \n",
       "2        11500.00    690-694               14.0                   21977.0   \n",
       "3         3833.33    695-699               10.0                    9346.0   \n",
       "4         3195.00    695-699               11.0                   14469.0   \n",
       "\n",
       "   Inquiries_in_the_Last_6_Months Employment_Length  \n",
       "0                             2.0          < 1 year  \n",
       "1                             1.0           2 years  \n",
       "2                             1.0           2 years  \n",
       "3                             0.0           5 years  \n",
       "4                             0.0           9 years  "
      ]
     },
     "execution_count": 119,
     "metadata": {},
     "output_type": "execute_result"
    }
   ],
   "source": [
    "loan_data.head()"
   ]
  },
  {
   "cell_type": "code",
   "execution_count": 116,
   "id": "616d0d22",
   "metadata": {},
   "outputs": [],
   "source": [
    "# Removing % from the Intrtest rate column\n",
    "loan_data.iloc[:,2] = loan_data.iloc[:,2].str.replace('%','').astype(np.float64)"
   ]
  },
  {
   "cell_type": "code",
   "execution_count": 117,
   "id": "986eec19",
   "metadata": {},
   "outputs": [],
   "source": [
    "# Changing column names as per INC \n",
    "loan_data.columns = ['Amount_Requested', 'Amount_Funded_By_Investors', 'Interest_Rate',\n",
    "       'Loan_Length', 'Loan_Purpose', 'Debt_To_Income_Ratio', 'State',\n",
    "       'Home_Ownership', 'Monthly_Income', 'FICO_Range', 'Open_CREDIT_Lines',\n",
    "       'Revolving_CREDIT_Balance', 'Inquiries_in_the_Last_6_Months',\n",
    "       'Employment_Length']"
   ]
  },
  {
   "cell_type": "code",
   "execution_count": 118,
   "id": "ea4ece53",
   "metadata": {},
   "outputs": [
    {
     "data": {
      "text/html": [
       "<div>\n",
       "<style scoped>\n",
       "    .dataframe tbody tr th:only-of-type {\n",
       "        vertical-align: middle;\n",
       "    }\n",
       "\n",
       "    .dataframe tbody tr th {\n",
       "        vertical-align: top;\n",
       "    }\n",
       "\n",
       "    .dataframe thead th {\n",
       "        text-align: right;\n",
       "    }\n",
       "</style>\n",
       "<table border=\"1\" class=\"dataframe\">\n",
       "  <thead>\n",
       "    <tr style=\"text-align: right;\">\n",
       "      <th></th>\n",
       "      <th>Amount_Funded_By_Investors</th>\n",
       "      <th>Interest_Rate</th>\n",
       "    </tr>\n",
       "  </thead>\n",
       "  <tbody>\n",
       "    <tr>\n",
       "      <th>Amount_Funded_By_Investors</th>\n",
       "      <td>1.000000</td>\n",
       "      <td>0.337454</td>\n",
       "    </tr>\n",
       "    <tr>\n",
       "      <th>Interest_Rate</th>\n",
       "      <td>0.337454</td>\n",
       "      <td>1.000000</td>\n",
       "    </tr>\n",
       "  </tbody>\n",
       "</table>\n",
       "</div>"
      ],
      "text/plain": [
       "                            Amount_Funded_By_Investors  Interest_Rate\n",
       "Amount_Funded_By_Investors                    1.000000       0.337454\n",
       "Interest_Rate                                 0.337454       1.000000"
      ]
     },
     "execution_count": 118,
     "metadata": {},
     "output_type": "execute_result"
    }
   ],
   "source": [
    "# Correlation\n",
    "loan_data.loc[:, ['Amount_Funded_By_Investors', 'Interest_Rate']].corr()"
   ]
  },
  {
   "cell_type": "code",
   "execution_count": 122,
   "id": "50fd8238",
   "metadata": {},
   "outputs": [],
   "source": [
    "# Filling None values\n",
    "loan_data.Interest_Rate.fillna('1.0', inplace = True)\n",
    "loan_data.Amount_Funded_By_Investors.fillna('1.0', inplace = True)"
   ]
  },
  {
   "cell_type": "code",
   "execution_count": 123,
   "id": "da3853ee",
   "metadata": {},
   "outputs": [
    {
     "data": {
      "text/plain": [
       "PearsonRResult(statistic=0.3354518016237078, pvalue=8.343249201024101e-67)"
      ]
     },
     "execution_count": 123,
     "metadata": {},
     "output_type": "execute_result"
    }
   ],
   "source": [
    "# Ho: Associated\n",
    "# Ha: No relationship between Intrest rate and loan amounts\n",
    "# CI: 95%, p: 0.05\n",
    "\n",
    "# perform the test \n",
    "stats.pearsonr( loan_data.Amount_Funded_By_Investors, loan_data.Interest_Rate )\n",
    "\n",
    "# Conclusion :\n",
    "# Both P-value and correlation value is low hence the Ho will go\n",
    "# Business Conclusion : \n",
    "# There is no relation between Amount and Intrest rate of the loans"
   ]
  },
  {
   "cell_type": "markdown",
   "id": "59e67433",
   "metadata": {},
   "source": [
    "## b. Loan length is directly effecting intrest rate."
   ]
  },
  {
   "cell_type": "code",
   "execution_count": 127,
   "id": "e9b2f9ab",
   "metadata": {},
   "outputs": [],
   "source": [
    "A = loan_data.loc[(loan_data.Loan_Length == '36 months'),'Interest_Rate'].astype(np.float64)\n",
    "B = loan_data.loc[(loan_data.Loan_Length == '60 months'),'Interest_Rate'].astype(np.float64)"
   ]
  },
  {
   "cell_type": "code",
   "execution_count": 128,
   "id": "f80a8a88",
   "metadata": {},
   "outputs": [
    {
     "data": {
      "text/plain": [
       "Ttest_indResult(statistic=-23.39783718724292, pvalue=1.218026444001273e-109)"
      ]
     },
     "execution_count": 128,
     "metadata": {},
     "output_type": "execute_result"
    }
   ],
   "source": [
    "# H0: u1 = u2\n",
    "# Ha: u1 <> u2\n",
    "# CI: 99%, p: 0.01\n",
    "\n",
    "# perform the test\n",
    "stats.ttest_ind( A, B )\n",
    "\n",
    "# stats conclusion\n",
    "# with the given sample we fail to reject the H0\n",
    "# Hence, Loan length is directly effecting intrest rate"
   ]
  },
  {
   "cell_type": "markdown",
   "id": "85bb683a",
   "metadata": {},
   "source": [
    "## c. Inrest rate varies for different purpose of loans"
   ]
  },
  {
   "cell_type": "code",
   "execution_count": 137,
   "id": "3f6bd26c",
   "metadata": {},
   "outputs": [],
   "source": [
    "A = loan_data.loc[(loan_data.Loan_Purpose == 'debt_consolidation'),'Interest_Rate'].astype(np.float64)\n",
    "B = loan_data.loc[(loan_data.Loan_Purpose == 'credit_card'),'Interest_Rate'].astype(np.float64)\n",
    "C = loan_data.loc[(loan_data.Loan_Purpose == 'other'),'Interest_Rate'].astype(np.float64)\n",
    "D = loan_data.loc[(loan_data.Loan_Purpose == 'moving'),'Interest_Rate'].astype(np.float64)\n",
    "E = loan_data.loc[(loan_data.Loan_Purpose == 'car'),'Interest_Rate'].astype(np.float64)\n",
    "F = loan_data.loc[(loan_data.Loan_Purpose == 'vacation'),'Interest_Rate'].astype(np.float64)\n",
    "G = loan_data.loc[(loan_data.Loan_Purpose == 'home_improvement'),'Interest_Rate'].astype(np.float64)\n",
    "H = loan_data.loc[(loan_data.Loan_Purpose == 'house'),'Interest_Rate'].astype(np.float64)\n",
    "I = loan_data.loc[(loan_data.Loan_Purpose == 'major_purchase'),'Interest_Rate'].astype(np.float64)\n",
    "J = loan_data.loc[(loan_data.Loan_Purpose == 'educational'),'Interest_Rate'].astype(np.float64)\n",
    "K = loan_data.loc[(loan_data.Loan_Purpose == 'medical'),'Interest_Rate'].astype(np.float64)\n",
    "L = loan_data.loc[(loan_data.Loan_Purpose == 'wedding'),'Interest_Rate'].astype(np.float64)\n",
    "M = loan_data.loc[(loan_data.Loan_Purpose == 'small_business'),'Interest_Rate'].astype(np.float64)\n",
    "N = loan_data.loc[(loan_data.Loan_Purpose == 'renewable_energy'),'Interest_Rate'].astype(np.float64)\n"
   ]
  },
  {
   "cell_type": "code",
   "execution_count": 138,
   "id": "845edc8f",
   "metadata": {},
   "outputs": [
    {
     "data": {
      "text/plain": [
       "F_onewayResult(statistic=7.563503260911469, pvalue=7.395255052275816e-15)"
      ]
     },
     "execution_count": 138,
     "metadata": {},
     "output_type": "execute_result"
    }
   ],
   "source": [
    "# Ho: means are EQUAL\n",
    "# Ha: means are UNEQUAL\n",
    "# CI: 99%, p: 0.01\n",
    "\n",
    "# perform the test\n",
    "stats.f_oneway( A, B, C, D, E, F, G, H, I, J, K, L, M, N)\n",
    "\n",
    "# conclusion\n",
    "# Inrest rate does varies for different purpose of loans"
   ]
  },
  {
   "cell_type": "markdown",
   "id": "d3c92760",
   "metadata": {},
   "source": [
    "## d. There is relationship between FICO scores and Home Ownership. It means that, People with owning home will have high FICO scores."
   ]
  },
  {
   "cell_type": "code",
   "execution_count": 198,
   "id": "1b5d4b68",
   "metadata": {},
   "outputs": [],
   "source": [
    "loan_data['FICO'] = loan_data.FICO_Range\n",
    "A = loan_data.FICO_Range\n",
    "loan_data['FICO'] = A.str.slice(stop=3)"
   ]
  },
  {
   "cell_type": "code",
   "execution_count": 199,
   "id": "ed5b0a26",
   "metadata": {},
   "outputs": [],
   "source": [
    "A = loan_data.loc[(loan_data.Home_Ownership == 'OWN'),'FICO'].astype(np.float64)\n",
    "B = loan_data.loc[(loan_data.Home_Ownership != 'OWN'),'FICO'].astype(np.float64)\n",
    "B.fillna(B.mean(), inplace = True)"
   ]
  },
  {
   "cell_type": "code",
   "execution_count": 201,
   "id": "ab1f6747",
   "metadata": {},
   "outputs": [
    {
     "data": {
      "text/plain": [
       "Ttest_indResult(statistic=0.27158075648515645, pvalue=0.7859668391782582)"
      ]
     },
     "execution_count": 201,
     "metadata": {},
     "output_type": "execute_result"
    }
   ],
   "source": [
    "# H0: u1 = u2\n",
    "# Ha: u1 <> u2\n",
    "# CI: 99%, p: 0.01\n",
    "\n",
    "# perform the test\n",
    "stats.ttest_ind( A, B )\n",
    "\n",
    "# stats conclusion\n",
    "# with the given sample we fail to reject the H0\n",
    "# Hence, Owning the home does not affect the FICO scores"
   ]
  },
  {
   "cell_type": "markdown",
   "id": "7a66a791",
   "metadata": {},
   "source": [
    "# BUSINESS PROBLEM - 2\n"
   ]
  },
  {
   "cell_type": "markdown",
   "id": "de6f0121",
   "metadata": {},
   "source": [
    "##  We would like to assess if there is any difference in the average price quotes provided by Mary and Barry"
   ]
  },
  {
   "cell_type": "code",
   "execution_count": 202,
   "id": "cba442c7",
   "metadata": {},
   "outputs": [],
   "source": [
    "# Extracting data\n",
    "Price_Quotes = pd.read_csv('C:/Users/Vaibhav Dewat/Downloads/Analytix Lab course/Case Study/4. Basic Statistics - Hypothesis Testing/Price_Quotes.csv')"
   ]
  },
  {
   "cell_type": "code",
   "execution_count": 205,
   "id": "e441e101",
   "metadata": {},
   "outputs": [
    {
     "name": "stdout",
     "output_type": "stream",
     "text": [
      "<class 'pandas.core.frame.DataFrame'>\n",
      "RangeIndex: 12 entries, 0 to 11\n",
      "Data columns (total 3 columns):\n",
      " #   Column        Non-Null Count  Dtype\n",
      "---  ------        --------------  -----\n",
      " 0   Order_Number  12 non-null     int64\n",
      " 1   Barry_Price   12 non-null     int64\n",
      " 2   Mary_Price    12 non-null     int64\n",
      "dtypes: int64(3)\n",
      "memory usage: 416.0 bytes\n"
     ]
    }
   ],
   "source": [
    "# Understanding data\n",
    "Price_Quotes.info()"
   ]
  },
  {
   "cell_type": "code",
   "execution_count": 206,
   "id": "f563625f",
   "metadata": {},
   "outputs": [
    {
     "data": {
      "text/plain": [
       "Ttest_indResult(statistic=1.4147436739281787, pvalue=0.17114226132118285)"
      ]
     },
     "execution_count": 206,
     "metadata": {},
     "output_type": "execute_result"
    }
   ],
   "source": [
    "# H0: u1 = u2\n",
    "# Ha: u1 <> u2\n",
    "# CI: 99%, p: 0.01\n",
    "\n",
    "# perform the test\n",
    "stats.ttest_ind( Price_Quotes.Barry_Price , Price_Quotes.Mary_Price )\n",
    "\n",
    "# stats conclusion\n",
    "# with the given sample we fail to reject the H0\n",
    "# Hence, the average price quotes provided by Mary and Barry are similar"
   ]
  },
  {
   "cell_type": "markdown",
   "id": "02f0f23d",
   "metadata": {},
   "source": [
    "# BUSINESS PROBLEM - 3"
   ]
  },
  {
   "cell_type": "markdown",
   "id": "9531ebb0",
   "metadata": {},
   "source": [
    "## Determine what effect, if any, the reengineering effort had on the incidence behavioral problems and staff turnover. i.e To determine if the reengineering effort changed the critical incidence rate. Isthere evidence that the critical incidence rate improved?"
   ]
  },
  {
   "cell_type": "code",
   "execution_count": 210,
   "id": "f375b1e5",
   "metadata": {},
   "outputs": [],
   "source": [
    "# Extracting data\n",
    "Treatment_Facility = pd.read_csv('C:/Users/Vaibhav Dewat/Downloads/Analytix Lab course/Case Study/4. Basic Statistics - Hypothesis Testing/Treatment_Facility.csv')"
   ]
  },
  {
   "cell_type": "code",
   "execution_count": 212,
   "id": "31b198da",
   "metadata": {},
   "outputs": [
    {
     "name": "stdout",
     "output_type": "stream",
     "text": [
      "<class 'pandas.core.frame.DataFrame'>\n",
      "RangeIndex: 20 entries, 0 to 19\n",
      "Data columns (total 5 columns):\n",
      " #   Column             Non-Null Count  Dtype  \n",
      "---  ------             --------------  -----  \n",
      " 0   Month              20 non-null     int64  \n",
      " 1   Reengineer         20 non-null     object \n",
      " 2   Employee_Turnover  20 non-null     float64\n",
      " 3   VAR4               20 non-null     float64\n",
      " 4   VAR5               20 non-null     float64\n",
      "dtypes: float64(3), int64(1), object(1)\n",
      "memory usage: 928.0+ bytes\n"
     ]
    }
   ],
   "source": [
    "# Understanding data\n",
    "Treatment_Facility.info()"
   ]
  },
  {
   "cell_type": "code",
   "execution_count": 213,
   "id": "aedc3902",
   "metadata": {},
   "outputs": [
    {
     "data": {
      "text/html": [
       "<div>\n",
       "<style scoped>\n",
       "    .dataframe tbody tr th:only-of-type {\n",
       "        vertical-align: middle;\n",
       "    }\n",
       "\n",
       "    .dataframe tbody tr th {\n",
       "        vertical-align: top;\n",
       "    }\n",
       "\n",
       "    .dataframe thead th {\n",
       "        text-align: right;\n",
       "    }\n",
       "</style>\n",
       "<table border=\"1\" class=\"dataframe\">\n",
       "  <thead>\n",
       "    <tr style=\"text-align: right;\">\n",
       "      <th></th>\n",
       "      <th>Month</th>\n",
       "      <th>Reengineer</th>\n",
       "      <th>Employee_Turnover</th>\n",
       "      <th>VAR4</th>\n",
       "      <th>VAR5</th>\n",
       "    </tr>\n",
       "  </thead>\n",
       "  <tbody>\n",
       "    <tr>\n",
       "      <th>0</th>\n",
       "      <td>1</td>\n",
       "      <td>Prior</td>\n",
       "      <td>0.0000</td>\n",
       "      <td>24.390244</td>\n",
       "      <td>42.682927</td>\n",
       "    </tr>\n",
       "    <tr>\n",
       "      <th>1</th>\n",
       "      <td>2</td>\n",
       "      <td>Prior</td>\n",
       "      <td>6.0606</td>\n",
       "      <td>19.354839</td>\n",
       "      <td>25.806452</td>\n",
       "    </tr>\n",
       "    <tr>\n",
       "      <th>2</th>\n",
       "      <td>3</td>\n",
       "      <td>Prior</td>\n",
       "      <td>12.1212</td>\n",
       "      <td>35.087719</td>\n",
       "      <td>146.198830</td>\n",
       "    </tr>\n",
       "    <tr>\n",
       "      <th>3</th>\n",
       "      <td>4</td>\n",
       "      <td>Prior</td>\n",
       "      <td>3.3333</td>\n",
       "      <td>18.404908</td>\n",
       "      <td>110.429448</td>\n",
       "    </tr>\n",
       "    <tr>\n",
       "      <th>4</th>\n",
       "      <td>5</td>\n",
       "      <td>Prior</td>\n",
       "      <td>12.9032</td>\n",
       "      <td>17.964072</td>\n",
       "      <td>23.952096</td>\n",
       "    </tr>\n",
       "  </tbody>\n",
       "</table>\n",
       "</div>"
      ],
      "text/plain": [
       "   Month Reengineer  Employee_Turnover       VAR4        VAR5\n",
       "0      1      Prior             0.0000  24.390244   42.682927\n",
       "1      2      Prior             6.0606  19.354839   25.806452\n",
       "2      3      Prior            12.1212  35.087719  146.198830\n",
       "3      4      Prior             3.3333  18.404908  110.429448\n",
       "4      5      Prior            12.9032  17.964072   23.952096"
      ]
     },
     "execution_count": 213,
     "metadata": {},
     "output_type": "execute_result"
    }
   ],
   "source": [
    "Treatment_Facility.head()"
   ]
  },
  {
   "cell_type": "code",
   "execution_count": 228,
   "id": "d32b4cff",
   "metadata": {},
   "outputs": [],
   "source": [
    "A = Treatment_Facility.loc[(Treatment_Facility.Reengineer == 'Prior'),'Employee_Turnover']\n",
    "B = Treatment_Facility.loc[(Treatment_Facility.Reengineer == 'Post'),'Employee_Turnover']"
   ]
  },
  {
   "cell_type": "code",
   "execution_count": 232,
   "id": "129bb0e4",
   "metadata": {},
   "outputs": [
    {
     "name": "stdout",
     "output_type": "stream",
     "text": [
      "Mean of Employee Turnover Prior to Reengineering :  11.735692307692307\n",
      "Mean of Employee Turnover Post to Reengineering :  18.68912857142857\n"
     ]
    }
   ],
   "source": [
    "print('Mean of Employee Turnover Prior to Reengineering : ', A.mean())\n",
    "print('Mean of Employee Turnover Post to Reengineering : ', B.mean())"
   ]
  },
  {
   "cell_type": "code",
   "execution_count": 217,
   "id": "9f2f5b29",
   "metadata": {},
   "outputs": [
    {
     "data": {
      "text/plain": [
       "Ttest_indResult(statistic=-1.770306704753604, pvalue=0.09361109345535304)"
      ]
     },
     "execution_count": 217,
     "metadata": {},
     "output_type": "execute_result"
    }
   ],
   "source": [
    "# H0: u1 >= u2\n",
    "# Ha: u1 < u2\n",
    "# CI: 99%, p: 0.01\n",
    "\n",
    "# perform the test\n",
    "stats.ttest_ind( A, B )\n",
    "\n",
    "# stats conclusion\n",
    "# with the given sample we fail to reject the H0\n",
    "# Employee Turnover has not affected post-reengineering period moreover has even increased\n",
    "# Re-engineering is unsuccessful"
   ]
  },
  {
   "cell_type": "code",
   "execution_count": 233,
   "id": "307df267",
   "metadata": {},
   "outputs": [],
   "source": [
    "A = Treatment_Facility.loc[(Treatment_Facility.Reengineer == 'Prior'),'VAR5']\n",
    "B = Treatment_Facility.loc[(Treatment_Facility.Reengineer == 'Post'),'VAR5']"
   ]
  },
  {
   "cell_type": "code",
   "execution_count": 234,
   "id": "7973eff3",
   "metadata": {},
   "outputs": [
    {
     "name": "stdout",
     "output_type": "stream",
     "text": [
      "Mean of critical incident reports Prior to Reengineering :  53.887906321846145\n",
      "Mean of critical incident reports Post to Reengineering :  23.34971927988571\n"
     ]
    }
   ],
   "source": [
    "print('Mean of critical incident reports Prior to Reengineering : ', A.mean())\n",
    "print('Mean of critical incident reports Post to Reengineering : ', B.mean())"
   ]
  },
  {
   "cell_type": "code",
   "execution_count": 235,
   "id": "e86eab83",
   "metadata": {},
   "outputs": [
    {
     "data": {
      "text/plain": [
       "Ttest_indResult(statistic=1.627914425352865, pvalue=0.12091989189884148)"
      ]
     },
     "execution_count": 235,
     "metadata": {},
     "output_type": "execute_result"
    }
   ],
   "source": [
    "# H0: u1 <= u2\n",
    "# Ha: u1 > u2\n",
    "# CI: 99%, p: 0.01\n",
    "\n",
    "# perform the test\n",
    "stats.ttest_ind( A, B )\n",
    "\n",
    "# stats conclusion\n",
    "# with the given sample we fail to reject the H0\n",
    "# Critical incident(CI) reports has not affected post-reengineering period however the mean has reduced but employee turover is still higher\n",
    "# Re-engineering is unsuccessful"
   ]
  },
  {
   "cell_type": "markdown",
   "id": "8f771a93",
   "metadata": {},
   "source": [
    "# BUSINESS PROBLEM-4"
   ]
  },
  {
   "cell_type": "markdown",
   "id": "504a5276",
   "metadata": {},
   "source": [
    "## We will focus on the prioritization system. If the system is working, then high priority jobs, on average, should be completed more quickly than medium priority jobs, and medium priority jobs should be completed more quickly than low priority jobs. Use the data provided to determine whether thisis, in fact, occurring."
   ]
  },
  {
   "cell_type": "code",
   "execution_count": 236,
   "id": "b9ef0804",
   "metadata": {},
   "outputs": [],
   "source": [
    "# Extracting data\n",
    "Priority_Assessment = pd.read_csv('C:/Users/Vaibhav Dewat/Downloads/Analytix Lab course/Case Study/4. Basic Statistics - Hypothesis Testing/Priority_Assessment.csv')"
   ]
  },
  {
   "cell_type": "code",
   "execution_count": 238,
   "id": "e6648e70",
   "metadata": {},
   "outputs": [
    {
     "name": "stdout",
     "output_type": "stream",
     "text": [
      "<class 'pandas.core.frame.DataFrame'>\n",
      "RangeIndex: 642 entries, 0 to 641\n",
      "Data columns (total 2 columns):\n",
      " #   Column    Non-Null Count  Dtype  \n",
      "---  ------    --------------  -----  \n",
      " 0   Days      642 non-null    float64\n",
      " 1   Priority  642 non-null    object \n",
      "dtypes: float64(1), object(1)\n",
      "memory usage: 10.2+ KB\n"
     ]
    }
   ],
   "source": [
    "# Understanding data\n",
    "Priority_Assessment.info()"
   ]
  },
  {
   "cell_type": "code",
   "execution_count": 239,
   "id": "c756ebdb",
   "metadata": {},
   "outputs": [
    {
     "data": {
      "text/html": [
       "<div>\n",
       "<style scoped>\n",
       "    .dataframe tbody tr th:only-of-type {\n",
       "        vertical-align: middle;\n",
       "    }\n",
       "\n",
       "    .dataframe tbody tr th {\n",
       "        vertical-align: top;\n",
       "    }\n",
       "\n",
       "    .dataframe thead th {\n",
       "        text-align: right;\n",
       "    }\n",
       "</style>\n",
       "<table border=\"1\" class=\"dataframe\">\n",
       "  <thead>\n",
       "    <tr style=\"text-align: right;\">\n",
       "      <th></th>\n",
       "      <th>Days</th>\n",
       "      <th>Priority</th>\n",
       "    </tr>\n",
       "  </thead>\n",
       "  <tbody>\n",
       "    <tr>\n",
       "      <th>0</th>\n",
       "      <td>3.3</td>\n",
       "      <td>High</td>\n",
       "    </tr>\n",
       "    <tr>\n",
       "      <th>1</th>\n",
       "      <td>7.9</td>\n",
       "      <td>Medium</td>\n",
       "    </tr>\n",
       "    <tr>\n",
       "      <th>2</th>\n",
       "      <td>0.3</td>\n",
       "      <td>High</td>\n",
       "    </tr>\n",
       "    <tr>\n",
       "      <th>3</th>\n",
       "      <td>0.7</td>\n",
       "      <td>Medium</td>\n",
       "    </tr>\n",
       "    <tr>\n",
       "      <th>4</th>\n",
       "      <td>8.6</td>\n",
       "      <td>Medium</td>\n",
       "    </tr>\n",
       "  </tbody>\n",
       "</table>\n",
       "</div>"
      ],
      "text/plain": [
       "   Days Priority\n",
       "0   3.3     High\n",
       "1   7.9   Medium\n",
       "2   0.3     High\n",
       "3   0.7   Medium\n",
       "4   8.6   Medium"
      ]
     },
     "execution_count": 239,
     "metadata": {},
     "output_type": "execute_result"
    }
   ],
   "source": [
    "Priority_Assessment.head()"
   ]
  },
  {
   "cell_type": "code",
   "execution_count": 241,
   "id": "cc7717ef",
   "metadata": {},
   "outputs": [],
   "source": [
    "A = Priority_Assessment.loc[(Priority_Assessment.Priority == 'High'),'Days']\n",
    "B = Priority_Assessment.loc[(Priority_Assessment.Priority == 'Medium'),'Days']\n",
    "C = Priority_Assessment.loc[(Priority_Assessment.Priority == 'Low'),'Days']"
   ]
  },
  {
   "cell_type": "code",
   "execution_count": 244,
   "id": "c0d4eece",
   "metadata": {},
   "outputs": [
    {
     "name": "stdout",
     "output_type": "stream",
     "text": [
      "Mean of Hign priority jobs :  3.023619631901845\n",
      "Mean of Medium priority jobs :  2.5000000000000004\n",
      "Mean of Low priority jobs :  4.228358208955225\n"
     ]
    }
   ],
   "source": [
    "print('Mean of Hign priority jobs : ', A.mean())\n",
    "print('Mean of Medium priority jobs : ', B.mean())\n",
    "print('Mean of Low priority jobs : ', C.mean())"
   ]
  },
  {
   "cell_type": "code",
   "execution_count": 245,
   "id": "5be7444d",
   "metadata": {},
   "outputs": [
    {
     "data": {
      "text/plain": [
       "F_onewayResult(statistic=1.812311010076072, pvalue=0.16411459461716182)"
      ]
     },
     "execution_count": 245,
     "metadata": {},
     "output_type": "execute_result"
    }
   ],
   "source": [
    "# Ho: means are EQUAL\n",
    "# Ha: means are UNEQUAL\n",
    "# CI: 99%, p: 0.01\n",
    "\n",
    "# perform the test\n",
    "stats.f_oneway( A, B, C)\n",
    "\n",
    "# stats conclusion\n",
    "# with the given sample we fail to reject the H0\n",
    "# The prioritization system is not affecting anything major "
   ]
  },
  {
   "cell_type": "markdown",
   "id": "80f4336c",
   "metadata": {},
   "source": [
    "# BUSINESS PROBLEM-5\n"
   ]
  },
  {
   "cell_type": "markdown",
   "id": "03ad7e53",
   "metadata": {},
   "source": [
    "## What is the overall level of customer satisfaction?"
   ]
  },
  {
   "cell_type": "code",
   "execution_count": 246,
   "id": "b74b112d",
   "metadata": {},
   "outputs": [],
   "source": [
    "# Extracting data\n",
    "Films = pd.read_csv('C:/Users/Vaibhav Dewat/Downloads/Analytix Lab course/Case Study/4. Basic Statistics - Hypothesis Testing/Films.csv')"
   ]
  },
  {
   "cell_type": "code",
   "execution_count": 248,
   "id": "10bb2217",
   "metadata": {},
   "outputs": [
    {
     "name": "stdout",
     "output_type": "stream",
     "text": [
      "<class 'pandas.core.frame.DataFrame'>\n",
      "RangeIndex: 330 entries, 0 to 329\n",
      "Data columns (total 11 columns):\n",
      " #   Column          Non-Null Count  Dtype  \n",
      "---  ------          --------------  -----  \n",
      " 0   _rowstate_      330 non-null    int64  \n",
      " 1   Movie           330 non-null    object \n",
      " 2   Gender          330 non-null    object \n",
      " 3   Marital_Status  328 non-null    object \n",
      " 4   Sinage          328 non-null    float64\n",
      " 5   Parking         328 non-null    float64\n",
      " 6   Clean           327 non-null    float64\n",
      " 7   Overall         328 non-null    float64\n",
      " 8   Age             328 non-null    float64\n",
      " 9   Income          314 non-null    float64\n",
      " 10  Hear_About      323 non-null    object \n",
      "dtypes: float64(6), int64(1), object(4)\n",
      "memory usage: 28.5+ KB\n"
     ]
    }
   ],
   "source": [
    "# Understanding the data\n",
    "Films.info()"
   ]
  },
  {
   "cell_type": "code",
   "execution_count": 249,
   "id": "5744285f",
   "metadata": {
    "scrolled": true
   },
   "outputs": [
    {
     "data": {
      "text/html": [
       "<div>\n",
       "<style scoped>\n",
       "    .dataframe tbody tr th:only-of-type {\n",
       "        vertical-align: middle;\n",
       "    }\n",
       "\n",
       "    .dataframe tbody tr th {\n",
       "        vertical-align: top;\n",
       "    }\n",
       "\n",
       "    .dataframe thead th {\n",
       "        text-align: right;\n",
       "    }\n",
       "</style>\n",
       "<table border=\"1\" class=\"dataframe\">\n",
       "  <thead>\n",
       "    <tr style=\"text-align: right;\">\n",
       "      <th></th>\n",
       "      <th>_rowstate_</th>\n",
       "      <th>Movie</th>\n",
       "      <th>Gender</th>\n",
       "      <th>Marital_Status</th>\n",
       "      <th>Sinage</th>\n",
       "      <th>Parking</th>\n",
       "      <th>Clean</th>\n",
       "      <th>Overall</th>\n",
       "      <th>Age</th>\n",
       "      <th>Income</th>\n",
       "      <th>Hear_About</th>\n",
       "    </tr>\n",
       "  </thead>\n",
       "  <tbody>\n",
       "    <tr>\n",
       "      <th>0</th>\n",
       "      <td>0</td>\n",
       "      <td>Ferris Buellers Day Off</td>\n",
       "      <td>Female</td>\n",
       "      <td>Married</td>\n",
       "      <td>2.0</td>\n",
       "      <td>2.0</td>\n",
       "      <td>2.0</td>\n",
       "      <td>2.0</td>\n",
       "      <td>3.0</td>\n",
       "      <td>1.0</td>\n",
       "      <td>5</td>\n",
       "    </tr>\n",
       "    <tr>\n",
       "      <th>1</th>\n",
       "      <td>0</td>\n",
       "      <td>Ferris Buellers Day Off</td>\n",
       "      <td>Female</td>\n",
       "      <td>Single</td>\n",
       "      <td>1.0</td>\n",
       "      <td>1.0</td>\n",
       "      <td>1.0</td>\n",
       "      <td>1.0</td>\n",
       "      <td>2.0</td>\n",
       "      <td>1.0</td>\n",
       "      <td>5</td>\n",
       "    </tr>\n",
       "    <tr>\n",
       "      <th>2</th>\n",
       "      <td>0</td>\n",
       "      <td>Ferris Buellers Day Off</td>\n",
       "      <td>Male</td>\n",
       "      <td>Married</td>\n",
       "      <td>2.0</td>\n",
       "      <td>4.0</td>\n",
       "      <td>3.0</td>\n",
       "      <td>2.0</td>\n",
       "      <td>4.0</td>\n",
       "      <td>1.0</td>\n",
       "      <td>5</td>\n",
       "    </tr>\n",
       "    <tr>\n",
       "      <th>3</th>\n",
       "      <td>0</td>\n",
       "      <td>Ferris Buellers Day Off</td>\n",
       "      <td>Female</td>\n",
       "      <td>Married</td>\n",
       "      <td>1.0</td>\n",
       "      <td>3.0</td>\n",
       "      <td>2.0</td>\n",
       "      <td>2.0</td>\n",
       "      <td>4.0</td>\n",
       "      <td>1.0</td>\n",
       "      <td>5</td>\n",
       "    </tr>\n",
       "    <tr>\n",
       "      <th>4</th>\n",
       "      <td>0</td>\n",
       "      <td>Ferris Buellers Day Off</td>\n",
       "      <td>Female</td>\n",
       "      <td>Married</td>\n",
       "      <td>1.0</td>\n",
       "      <td>1.0</td>\n",
       "      <td>1.0</td>\n",
       "      <td>1.0</td>\n",
       "      <td>3.0</td>\n",
       "      <td>3.0</td>\n",
       "      <td>1</td>\n",
       "    </tr>\n",
       "  </tbody>\n",
       "</table>\n",
       "</div>"
      ],
      "text/plain": [
       "   _rowstate_                    Movie  Gender Marital_Status  Sinage  \\\n",
       "0           0  Ferris Buellers Day Off  Female        Married     2.0   \n",
       "1           0  Ferris Buellers Day Off  Female         Single     1.0   \n",
       "2           0  Ferris Buellers Day Off    Male        Married     2.0   \n",
       "3           0  Ferris Buellers Day Off  Female        Married     1.0   \n",
       "4           0  Ferris Buellers Day Off  Female        Married     1.0   \n",
       "\n",
       "   Parking  Clean  Overall  Age  Income Hear_About  \n",
       "0      2.0    2.0      2.0  3.0     1.0          5  \n",
       "1      1.0    1.0      1.0  2.0     1.0          5  \n",
       "2      4.0    3.0      2.0  4.0     1.0          5  \n",
       "3      3.0    2.0      2.0  4.0     1.0          5  \n",
       "4      1.0    1.0      1.0  3.0     3.0          1  "
      ]
     },
     "execution_count": 249,
     "metadata": {},
     "output_type": "execute_result"
    }
   ],
   "source": [
    "Films.head()"
   ]
  },
  {
   "cell_type": "code",
   "execution_count": 278,
   "id": "7afe1db0",
   "metadata": {},
   "outputs": [],
   "source": [
    "Films.Overall.fillna(Films.Overall.mean(), inplace = True)\n",
    "Mean_Rating = Films.Overall.mean()\n",
    "Std_Dev = statistics.stdev(Films.Overall)\n",
    "SE = Std_Dev/((Films.shape[0])**0.5)\n",
    "\n",
    "# As per 95% CI, the range = (Mean +-1.96*SE) \n",
    "A = Mean_Rating + 1.96*SE\n",
    "B = Mean_Rating - 1.96*SE"
   ]
  },
  {
   "cell_type": "code",
   "execution_count": 281,
   "id": "4df9d58e",
   "metadata": {},
   "outputs": [
    {
     "name": "stdout",
     "output_type": "stream",
     "text": [
      "The general ratings as concluded from the given samples lies between :  1.6930462114456166 and  1.5447586666031639\n"
     ]
    }
   ],
   "source": [
    "print('The general ratings as concluded from the given samples lies between : ',A , 'and ', B)"
   ]
  },
  {
   "cell_type": "code",
   "execution_count": 282,
   "id": "6c9a8456",
   "metadata": {},
   "outputs": [],
   "source": [
    "# Conclusion\n",
    "# As coded: 1 = Excellent; 2 = Good; 3 = Average/Fair; 4 = Poor; 5 = Very Poor\n",
    "# The ratings are decent for the Red Rocks Amphitheatre"
   ]
  },
  {
   "cell_type": "markdown",
   "id": "113f5004",
   "metadata": {},
   "source": [
    "## What factors are linked to satisfaction?"
   ]
  },
  {
   "cell_type": "code",
   "execution_count": 283,
   "id": "91e6c0cf",
   "metadata": {},
   "outputs": [
    {
     "data": {
      "text/html": [
       "<div>\n",
       "<style scoped>\n",
       "    .dataframe tbody tr th:only-of-type {\n",
       "        vertical-align: middle;\n",
       "    }\n",
       "\n",
       "    .dataframe tbody tr th {\n",
       "        vertical-align: top;\n",
       "    }\n",
       "\n",
       "    .dataframe thead th {\n",
       "        text-align: right;\n",
       "    }\n",
       "</style>\n",
       "<table border=\"1\" class=\"dataframe\">\n",
       "  <thead>\n",
       "    <tr style=\"text-align: right;\">\n",
       "      <th></th>\n",
       "      <th>_rowstate_</th>\n",
       "      <th>Sinage</th>\n",
       "      <th>Parking</th>\n",
       "      <th>Clean</th>\n",
       "      <th>Overall</th>\n",
       "      <th>Age</th>\n",
       "      <th>Income</th>\n",
       "    </tr>\n",
       "  </thead>\n",
       "  <tbody>\n",
       "    <tr>\n",
       "      <th>_rowstate_</th>\n",
       "      <td>NaN</td>\n",
       "      <td>NaN</td>\n",
       "      <td>NaN</td>\n",
       "      <td>NaN</td>\n",
       "      <td>NaN</td>\n",
       "      <td>NaN</td>\n",
       "      <td>NaN</td>\n",
       "    </tr>\n",
       "    <tr>\n",
       "      <th>Sinage</th>\n",
       "      <td>NaN</td>\n",
       "      <td>1.000000</td>\n",
       "      <td>0.470322</td>\n",
       "      <td>0.349163</td>\n",
       "      <td>0.382868</td>\n",
       "      <td>-0.091512</td>\n",
       "      <td>-0.036721</td>\n",
       "    </tr>\n",
       "    <tr>\n",
       "      <th>Parking</th>\n",
       "      <td>NaN</td>\n",
       "      <td>0.470322</td>\n",
       "      <td>1.000000</td>\n",
       "      <td>0.444368</td>\n",
       "      <td>0.515869</td>\n",
       "      <td>-0.023607</td>\n",
       "      <td>-0.022084</td>\n",
       "    </tr>\n",
       "    <tr>\n",
       "      <th>Clean</th>\n",
       "      <td>NaN</td>\n",
       "      <td>0.349163</td>\n",
       "      <td>0.444368</td>\n",
       "      <td>1.000000</td>\n",
       "      <td>0.349412</td>\n",
       "      <td>-0.005052</td>\n",
       "      <td>0.019851</td>\n",
       "    </tr>\n",
       "    <tr>\n",
       "      <th>Overall</th>\n",
       "      <td>NaN</td>\n",
       "      <td>0.382868</td>\n",
       "      <td>0.515869</td>\n",
       "      <td>0.349412</td>\n",
       "      <td>1.000000</td>\n",
       "      <td>-0.034126</td>\n",
       "      <td>-0.004069</td>\n",
       "    </tr>\n",
       "    <tr>\n",
       "      <th>Age</th>\n",
       "      <td>NaN</td>\n",
       "      <td>-0.091512</td>\n",
       "      <td>-0.023607</td>\n",
       "      <td>-0.005052</td>\n",
       "      <td>-0.034126</td>\n",
       "      <td>1.000000</td>\n",
       "      <td>0.144772</td>\n",
       "    </tr>\n",
       "    <tr>\n",
       "      <th>Income</th>\n",
       "      <td>NaN</td>\n",
       "      <td>-0.036721</td>\n",
       "      <td>-0.022084</td>\n",
       "      <td>0.019851</td>\n",
       "      <td>-0.004069</td>\n",
       "      <td>0.144772</td>\n",
       "      <td>1.000000</td>\n",
       "    </tr>\n",
       "  </tbody>\n",
       "</table>\n",
       "</div>"
      ],
      "text/plain": [
       "            _rowstate_    Sinage   Parking     Clean   Overall       Age  \\\n",
       "_rowstate_         NaN       NaN       NaN       NaN       NaN       NaN   \n",
       "Sinage             NaN  1.000000  0.470322  0.349163  0.382868 -0.091512   \n",
       "Parking            NaN  0.470322  1.000000  0.444368  0.515869 -0.023607   \n",
       "Clean              NaN  0.349163  0.444368  1.000000  0.349412 -0.005052   \n",
       "Overall            NaN  0.382868  0.515869  0.349412  1.000000 -0.034126   \n",
       "Age                NaN -0.091512 -0.023607 -0.005052 -0.034126  1.000000   \n",
       "Income             NaN -0.036721 -0.022084  0.019851 -0.004069  0.144772   \n",
       "\n",
       "              Income  \n",
       "_rowstate_       NaN  \n",
       "Sinage     -0.036721  \n",
       "Parking    -0.022084  \n",
       "Clean       0.019851  \n",
       "Overall    -0.004069  \n",
       "Age         0.144772  \n",
       "Income      1.000000  "
      ]
     },
     "execution_count": 283,
     "metadata": {},
     "output_type": "execute_result"
    }
   ],
   "source": [
    "Films.corr()\n",
    "\n",
    "# Conclusion\n",
    "# Parking is highly linked to the satisfaction of customers as well as sinage and cleanliness affects a bit"
   ]
  },
  {
   "cell_type": "code",
   "execution_count": 285,
   "id": "3d79c63d",
   "metadata": {},
   "outputs": [],
   "source": [
    "A = Films.loc[(Films.Movie == 'Ferris Buellers Day Off'),'Overall']\n",
    "B = Films.loc[(Films.Movie == 'Willy Wonka'),'Overall']\n",
    "C = Films.loc[(Films.Movie == 'Old School'),'Overall']"
   ]
  },
  {
   "cell_type": "code",
   "execution_count": 289,
   "id": "51fe7cf3",
   "metadata": {},
   "outputs": [
    {
     "data": {
      "text/plain": [
       "F_onewayResult(statistic=1.3297479298834356, pvalue=0.26597056306336136)"
      ]
     },
     "execution_count": 289,
     "metadata": {},
     "output_type": "execute_result"
    }
   ],
   "source": [
    "# Ho: means are EQUAL\n",
    "# Ha: means are UNEQUAL\n",
    "# CI: 99%, p: 0.01\n",
    "\n",
    "# perform the test\n",
    "stats.f_oneway( A, B, C)\n",
    "\n",
    "# conclusion\n",
    "# Movies does not impact the overall satisfaction"
   ]
  },
  {
   "cell_type": "code",
   "execution_count": 302,
   "id": "c940ab7f",
   "metadata": {},
   "outputs": [],
   "source": [
    "Films.Gender = Films.Gender.replace('1','Male')\n",
    "Films.Gender = Films.Gender.replace('2','Female')"
   ]
  },
  {
   "cell_type": "code",
   "execution_count": 303,
   "id": "b61e4c96",
   "metadata": {},
   "outputs": [],
   "source": [
    "A = Films.loc[(Films.Gender == 'Female'),'Overall']\n",
    "B = Films.loc[(Films.Gender == 'Male'),'Overall']"
   ]
  },
  {
   "cell_type": "code",
   "execution_count": 304,
   "id": "ab1f3b67",
   "metadata": {},
   "outputs": [
    {
     "data": {
      "text/plain": [
       "Ttest_indResult(statistic=-1.3762239960957157, pvalue=0.1696911300224957)"
      ]
     },
     "execution_count": 304,
     "metadata": {},
     "output_type": "execute_result"
    }
   ],
   "source": [
    "# Ho: u1 = u2\n",
    "# Ha: u1 <> u2\n",
    "# CI: 99%, p: 0.01\n",
    "\n",
    "# perform the test\n",
    "stats.ttest_ind( A , B )\n",
    "\n",
    "# conclusion\n",
    "# Gender does not impact the overall satisfaction"
   ]
  },
  {
   "cell_type": "code",
   "execution_count": 308,
   "id": "ec7fd587",
   "metadata": {},
   "outputs": [
    {
     "data": {
      "text/plain": [
       "array(['Married', 'Single', 'Slngle', '1', '2', nan], dtype=object)"
      ]
     },
     "execution_count": 308,
     "metadata": {},
     "output_type": "execute_result"
    }
   ],
   "source": [
    "Films.Marital_Status.unique()"
   ]
  },
  {
   "cell_type": "code",
   "execution_count": 309,
   "id": "99d5845b",
   "metadata": {},
   "outputs": [],
   "source": [
    "Films.Marital_Status = Films.Marital_Status.replace('Slngle','Single')\n",
    "Films.Marital_Status = Films.Marital_Status.replace('2','Single')\n",
    "Films.Marital_Status = Films.Marital_Status.replace('1','Married')"
   ]
  },
  {
   "cell_type": "code",
   "execution_count": 310,
   "id": "07016a87",
   "metadata": {},
   "outputs": [],
   "source": [
    "A = Films.loc[(Films.Marital_Status == 'Single'),'Overall']\n",
    "B = Films.loc[(Films.Marital_Status == 'Married'),'Overall']"
   ]
  },
  {
   "cell_type": "code",
   "execution_count": 314,
   "id": "c7f43e5b",
   "metadata": {},
   "outputs": [
    {
     "data": {
      "text/plain": [
       "Ttest_indResult(statistic=0.7566582519754828, pvalue=0.4498011063677839)"
      ]
     },
     "execution_count": 314,
     "metadata": {},
     "output_type": "execute_result"
    }
   ],
   "source": [
    "# Ho: u1 = u2\n",
    "# Ha: u1 <> u2\n",
    "# CI: 99%, p: 0.01\n",
    "\n",
    "# perform the test\n",
    "stats.ttest_ind( A , B )\n",
    "\n",
    "# conclusion\n",
    "# Marital Status does not impact the overall satisfaction"
   ]
  },
  {
   "cell_type": "markdown",
   "id": "def55e6c",
   "metadata": {},
   "source": [
    "## What is the demographic profile of Film on the Rocks patrons?"
   ]
  },
  {
   "cell_type": "code",
   "execution_count": 339,
   "id": "7c50a2b7",
   "metadata": {},
   "outputs": [
    {
     "name": "stdout",
     "output_type": "stream",
     "text": [
      "Gender  Marital_Status  Age  Income\n",
      "Female  Married         1.0  2.0        1\n",
      "                        2.0  1.0        3\n",
      "                             2.0        2\n",
      "                             3.0        1\n",
      "                        3.0  1.0        4\n",
      "                             2.0       19\n",
      "                             3.0       24\n",
      "                        4.0  1.0        1\n",
      "                             2.0        1\n",
      "                             3.0        1\n",
      "        Single          1.0  1.0        4\n",
      "                             2.0        3\n",
      "                             3.0       10\n",
      "                        2.0  1.0       62\n",
      "                             2.0       18\n",
      "                             3.0       18\n",
      "                        3.0  1.0       19\n",
      "                             2.0        6\n",
      "                             3.0        2\n",
      "                        4.0  1.0        2\n",
      "Male    Married         2.0  1.0        4\n",
      "                             2.0        2\n",
      "                             3.0        3\n",
      "                        3.0  1.0        1\n",
      "                             2.0        7\n",
      "                             3.0       17\n",
      "                        4.0  1.0        2\n",
      "                             3.0        1\n",
      "        Single          1.0  1.0        3\n",
      "                             3.0        1\n",
      "                        2.0  1.0       32\n",
      "                             2.0       14\n",
      "                             3.0        9\n",
      "                        3.0  1.0        4\n",
      "                             2.0        7\n",
      "                             3.0        2\n",
      "Name: Movie, dtype: int64\n"
     ]
    }
   ],
   "source": [
    "A = Films.groupby(by = ['Gender', 'Marital_Status', 'Age', 'Income']).count()\n",
    "B = A.Movie\n",
    "print(B)\n",
    "\n",
    "# Demographic profile is as follows"
   ]
  },
  {
   "cell_type": "markdown",
   "id": "b32ee991",
   "metadata": {},
   "source": [
    "## In what media outlet(s) should the film series be advertised?"
   ]
  },
  {
   "cell_type": "code",
   "execution_count": 377,
   "id": "d54b16f5",
   "metadata": {},
   "outputs": [],
   "source": [
    "# Respondents could check any of the following that applied: 1 = television; \n",
    "# 2 =newspaper; 3 = radio; 4 = website; 5 = word of mouth"
   ]
  },
  {
   "cell_type": "code",
   "execution_count": 375,
   "id": "4713129e",
   "metadata": {},
   "outputs": [],
   "source": [
    "WOM = Films.loc[Films.Hear_About.isin(['5', '1,5', '2,5', '3,5', '4,5', '5,4']), 'Overall'].count()\n",
    "Websit = Films.loc[Films.Hear_About.isin(['4', '3,4', '4,5', '5,4']), 'Overall'].count()\n",
    "Radi = Films.loc[Films.Hear_About.isin(['3', '3,5', '3,4']), 'Overall'].count()\n",
    "Newsp = Films.loc[Films.Hear_About.isin(['2', '2,5']), 'Overall'].count()\n",
    "Telev = Films.loc[Films.Hear_About.isin(['1', '1,5']), 'Overall'].count()"
   ]
  },
  {
   "cell_type": "code",
   "execution_count": 376,
   "id": "1ab06bca",
   "metadata": {},
   "outputs": [
    {
     "name": "stdout",
     "output_type": "stream",
     "text": [
      "Count for way of advertisement as per Word of Mouth :  232  | Website :  45  | Radio :  17  | Newspaper :  14  | Television :  23\n"
     ]
    }
   ],
   "source": [
    "print('Count for way of advertisement as per Word of Mouth : ', WOM , ' | Website : ', Websit , ' | Radio : ', Radi , ' | Newspaper : ', Newsp , ' | Television : ', Telev)"
   ]
  },
  {
   "cell_type": "code",
   "execution_count": null,
   "id": "acf6808b",
   "metadata": {},
   "outputs": [],
   "source": [
    "# Conclusion\n",
    "# As per the sample data, word of mouth is the best way to advertise any film series followed by website being the second best"
   ]
  },
  {
   "cell_type": "markdown",
   "id": "60ac067c",
   "metadata": {},
   "source": [
    "# THE END"
   ]
  }
 ],
 "metadata": {
  "kernelspec": {
   "display_name": "Python 3 (ipykernel)",
   "language": "python",
   "name": "python3"
  },
  "language_info": {
   "codemirror_mode": {
    "name": "ipython",
    "version": 3
   },
   "file_extension": ".py",
   "mimetype": "text/x-python",
   "name": "python",
   "nbconvert_exporter": "python",
   "pygments_lexer": "ipython3",
   "version": "3.9.13"
  }
 },
 "nbformat": 4,
 "nbformat_minor": 5
}
